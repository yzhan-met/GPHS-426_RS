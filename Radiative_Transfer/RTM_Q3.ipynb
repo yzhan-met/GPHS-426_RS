{
  "cells": [
    {
      "cell_type": "markdown",
      "metadata": {},
      "source": [
        "<a href=\"https://colab.research.google.com/github/yzhan-met/GPHS-426_RS/blob/main/Radiative_Transfer/RTM_Q3.ipynb\" target=\"_parent\"><img src=\"https://colab.research.google.com/assets/colab-badge.svg\" alt=\"Open In Colab\"/></a>"
      ]
    },
    {
      "cell_type": "markdown",
      "metadata": {
        "id": "NtQAdtjaizcM"
      },
      "source": [
        "# LibRadtran Tutorial\n",
        "\n",
        "![logo](http://www.libradtran.org/lib/exe/fetch.php?media=libradtran.png)\n",
        "\n",
        "libRadtran - A library for radiative transfer - is a collection of C and Fortran functions and programs for calculation of solar and thermal radiation in the Earth's atmosphere. It is a powerful tool used for many cloud/aerosol/land retrieval applications.\n",
        "\n",
        "[website](https://www.libradtran.org/doku.php)\n",
        "\n",
        "[paper](https://gmd.copernicus.org/articles/9/1647/2016/)"
      ]
    },
    {
      "cell_type": "markdown",
      "metadata": {
        "id": "MtpUFxmKwN-S"
      },
      "source": [
        "## Preparing the environment"
      ]
    },
    {
      "cell_type": "code",
      "execution_count": 1,
      "metadata": {
        "colab": {
          "base_uri": "https://localhost:8080/"
        },
        "id": "eRPGEkcoOhdy",
        "outputId": "c9ff9dfe-c397-4a8a-c116-20969565837f"
      },
      "outputs": [
        {
          "name": "stdout",
          "output_type": "stream",
          "text": [
            "Setup Complete.\n"
          ]
        }
      ],
      "source": [
        "print(\"Loading Libraries\")\n",
        "# this cell download and install libRadtran\n",
        "!apt-get -qq update\n",
        "!apt-get -qq install -y gfortran flex libnetcdf-dev libgsl-dev gawk\n",
        "\n",
        "!mkdir ./temp\n",
        "!curl -SL http://www.libradtran.org/download/libRadtran-2.0.5.tar.gz | tar -xzC ./temp\n",
        "!mv ./temp/libRadtran-2.0.5 ./libRadtran\n",
        "!cd ./libRadtran && ./configure && make\n",
        "\n",
        "from IPython.display import clear_output\n",
        "clear_output()\n",
        "print(\"Setup Complete.\")"
      ]
    },
    {
      "cell_type": "code",
      "execution_count": 2,
      "metadata": {
        "colab": {
          "base_uri": "https://localhost:8080/"
        },
        "id": "U-IPC8zwS9Cc",
        "outputId": "52286425-eaa1-403e-c0e6-dfde6e210cc6"
      },
      "outputs": [
        {
          "name": "stdout",
          "output_type": "stream",
          "text": [
            "  % Total    % Received % Xferd  Average Speed   Time    Time     Time  Current\n",
            "                                 Dload  Upload   Total   Spent    Left  Speed\n",
            "100   317  100   317    0     0    527      0 --:--:-- --:--:-- --:--:--   528\n",
            "100  665M  100  665M    0     0  21.4M      0  0:00:31  0:00:31 --:--:-- 23.3M\n"
          ]
        }
      ],
      "source": [
        "# download additional data for the REPTRAN absorption parameterization\n",
        "!curl -SL http://www.meteo.physik.uni-muenchen.de/~libradtran/lib/exe/fetch.php?media=download:reptran_2017_all.tar.gz | tar xz -C ./temp\n",
        "!mv ./temp/data/correlated_k/reptran/* ./libRadtran/data/correlated_k/reptran/ && rm -rf ./temp/data"
      ]
    },
    {
      "cell_type": "code",
      "execution_count": null,
      "metadata": {
        "id": "nfEoY6nuz5Rz"
      },
      "outputs": [],
      "source": [
        "!cd libRadtran/examples && ../bin/uvspec < UVSPEC_LOWTRAN_THERMAL.INP > /content/temp/uvspec_lowtran_thermal.out"
      ]
    },
    {
      "cell_type": "markdown",
      "metadata": {
        "id": "aY2CFiyQwWkw"
      },
      "source": [
        "## Building pyLRT - a python wrapper for libRadtran"
      ]
    },
    {
      "cell_type": "code",
      "execution_count": 3,
      "metadata": {
        "colab": {
          "base_uri": "https://localhost:8080/"
        },
        "id": "3JXyrgbafidt",
        "outputId": "4c3dc6ee-0774-4837-bfc5-11ccdea320e3"
      },
      "outputs": [
        {
          "name": "stdout",
          "output_type": "stream",
          "text": [
            "Setup Complete.\n"
          ]
        }
      ],
      "source": [
        "print(\"Building pyLRT...\")\n",
        "!git clone https://github.com/EdGrrr/pyLRT.git && cd pyLRT && pip install .\n",
        "!echo \"/content/libRadtran/\">>~/.pylrtrc\n",
        "\n",
        "clear_output()\n",
        "print(\"Setup Complete.\")\n"
      ]
    },
    {
      "cell_type": "markdown",
      "metadata": {
        "id": "ePYGhPhbwi4I"
      },
      "source": [
        "## RT simulation using pyLRT"
      ]
    },
    {
      "cell_type": "code",
      "execution_count": 10,
      "metadata": {
        "id": "sWCDXmoBlguw"
      },
      "outputs": [],
      "source": [
        "import copy\n",
        "import scipy\n",
        "import scipy.interpolate\n",
        "import numpy as np\n",
        "import pandas as pd\n",
        "import matplotlib.pyplot as plt\n",
        "from pyLRT import RadTran, get_lrt_folder\n",
        "\n",
        "pd.options.plotting.backend = \"plotly\"\n",
        "\n",
        "LIBRADTRAN_FOLDER = get_lrt_folder()\n",
        "# set common options\n",
        "rt = RadTran(LIBRADTRAN_FOLDER)\n",
        "rt.options['rte_solver'] = 'twostr' # disort"
      ]
    },
    {
      "cell_type": "markdown",
      "metadata": {
        "id": "d9xbU5WwMxIv"
      },
      "source": [
        "### Question 3 (a)\n",
        "\n",
        "Report and interpret the differences in the downwelling solar radiation (for wavelengths at 0.64 μm) at the surface for cloud altitudes of 2 km, 5 km, and 10 km."
      ]
    },
    {
      "cell_type": "code",
      "execution_count": 66,
      "metadata": {
        "colab": {
          "base_uri": "https://localhost:8080/"
        },
        "id": "2CHdDpH3vXbZ",
        "outputId": "14fc6758-eccd-436b-cc45-da3cecf6b229"
      },
      "outputs": [
        {
          "name": "stdout",
          "output_type": "stream",
          "text": [
            "rte_solver twostr\n",
            "source solar\n",
            "wavelength 630 650\n",
            "output_user lambda eglo eup edn edir\n",
            "albedo 0.2\n",
            "zout SUR\n",
            "sza 30\n",
            "verbose \n",
            "\n",
            "rte_solver twostr\n",
            "source solar\n",
            "wavelength 630 650\n",
            "output_user lambda eglo eup edn edir\n",
            "albedo 0.2\n",
            "zout SUR\n",
            "sza 30\n",
            "wc_file 1D /tmp/tmpbqt35ioo\n",
            "verbose \n",
            "Cloud\n",
            "  Alt  LWC   Re\n",
            " 10.00 0.50 20.00\n",
            " 9.70 0.50 20.00\n",
            "\n",
            "rte_solver twostr\n",
            "source solar\n",
            "wavelength 630 650\n",
            "output_user lambda eglo eup edn edir\n",
            "albedo 0.2\n",
            "zout SUR\n",
            "sza 30\n",
            "wc_file 1D /tmp/tmp22cmpx6v\n",
            "verbose \n",
            "Cloud\n",
            "  Alt  LWC   Re\n",
            " 5.00 0.50 20.00\n",
            " 4.70 0.50 20.00\n",
            "\n",
            "rte_solver twostr\n",
            "source solar\n",
            "wavelength 630 650\n",
            "output_user lambda eglo eup edn edir\n",
            "albedo 0.2\n",
            "zout SUR\n",
            "sza 30\n",
            "wc_file 1D /tmp/tmp1wk0dhtc\n",
            "verbose \n",
            "Cloud\n",
            "  Alt  LWC   Re\n",
            " 2.00 0.50 20.00\n",
            " 1.70 0.50 20.00\n",
            "\n"
          ]
        }
      ],
      "source": [
        "# initialize solar (shortwave) RT object\n",
        "sw_rt = copy.deepcopy(rt)\n",
        "sw_rt.options['source'] = 'solar'\n",
        "sw_rt.options['wavelength'] = '630 650'\n",
        "sw_rt.options['output_user'] = 'lambda eglo eup edn edir'\n",
        "sw_rt.options['albedo'] = '0.2'\n",
        "sw_rt.options['quiet'] = ''\n",
        "\n",
        "# Run solar (shortwave) RT for surface simulation\n",
        "sw_rt.options['zout'] = 'SUR'\n",
        "sw_rt.options['sza'] = '30'\n",
        "sdata_SUR, sverb_SUR = sw_rt.run(verbose=True, print_input=True)\n",
        "\n",
        "# with a cloud at z=10 km\n",
        "sw_rt_cld10 = copy.deepcopy(sw_rt)\n",
        "sw_rt_cld10.cloud = {\n",
        "    \"z\": np.array([10, 9.7]),\n",
        "    \"lwc\": np.array([0.5, 0.5]),\n",
        "    \"re\": np.array([20, 20]),\n",
        "}\n",
        "\n",
        "sdata_SUR_cld10, sverb_SUR_cld10 = sw_rt_cld10.run(verbose=True, print_input=True)\n",
        "\n",
        "# with cloud at z=5 km\n",
        "sw_rt_cld5 = copy.deepcopy(sw_rt)\n",
        "sw_rt_cld5.cloud = {\n",
        "    \"z\": np.array([5, 4.7]),\n",
        "    \"lwc\": np.array([0.5, 0.5]),\n",
        "    \"re\": np.array([20, 20]),\n",
        "}\n",
        "\n",
        "sdata_SUR_cld5, sverb_SUR_cld5 = sw_rt_cld5.run(verbose=True, print_input=True)\n",
        "\n",
        "# with cloud at z=2 km\n",
        "sw_rt_cld2 = copy.deepcopy(sw_rt)\n",
        "sw_rt_cld2.cloud = {\n",
        "    \"z\": np.array([2, 1.7]),\n",
        "    \"lwc\": np.array([0.5, 0.5]),\n",
        "    \"re\": np.array([20, 20]),\n",
        "}\n",
        "\n",
        "sdata_SUR_cld2, sverb_SUR_cld2 = sw_rt_cld2.run(verbose=True, print_input=True)"
      ]
    },
    {
      "cell_type": "code",
      "execution_count": 67,
      "metadata": {
        "colab": {
          "base_uri": "https://localhost:8080/",
          "height": 542
        },
        "id": "DHO-VeUJKiHj",
        "outputId": "61438aad-a6cd-4a19-bbdc-27a480d7c736"
      },
      "outputs": [
        {
          "data": {
            "text/html": [
              "<html>\n",
              "<head><meta charset=\"utf-8\" /></head>\n",
              "<body>\n",
              "    <div>            <script src=\"https://cdnjs.cloudflare.com/ajax/libs/mathjax/2.7.5/MathJax.js?config=TeX-AMS-MML_SVG\"></script><script type=\"text/javascript\">if (window.MathJax && window.MathJax.Hub && window.MathJax.Hub.Config) {window.MathJax.Hub.Config({SVG: {font: \"STIX-Web\"}});}</script>                <script type=\"text/javascript\">window.PlotlyConfig = {MathJaxConfig: 'local'};</script>\n",
              "        <script charset=\"utf-8\" src=\"https://cdn.plot.ly/plotly-2.24.1.min.js\"></script>                <div id=\"516466fd-0266-4403-b517-c29c3fde518e\" class=\"plotly-graph-div\" style=\"height:525px; width:100%;\"></div>            <script type=\"text/javascript\">                                    window.PLOTLYENV=window.PLOTLYENV || {};                                    if (document.getElementById(\"516466fd-0266-4403-b517-c29c3fde518e\")) {                    Plotly.newPlot(                        \"516466fd-0266-4403-b517-c29c3fde518e\",                        [{\"hovertemplate\":\"component=Clear\\u003cbr\\u003elambda=%{x}\\u003cbr\\u003eIrradiance (W\\u002fm2\\u002fum)=%{y}\\u003cextra\\u003e\\u003c\\u002fextra\\u003e\",\"legendgroup\":\"Clear\",\"line\":{\"color\":\"#1F77B4\",\"dash\":\"solid\"},\"marker\":{\"symbol\":\"circle\"},\"mode\":\"lines\",\"name\":\"Clear\",\"orientation\":\"v\",\"showlegend\":true,\"x\":[630.021,630.617,631.214,631.812,632.411,633.012,633.613,634.216,634.82,635.425,636.031,636.639,637.247,637.857,638.468,639.08,639.693,640.307,640.923,641.54,642.158,642.777,643.397,644.019,644.642,645.266,645.891,646.517,647.145,647.773,648.403,649.035,649.667,650.301],\"xaxis\":\"x\",\"y\":[1322.481,1294.185,1352.769,1226.786,1326.708,1357.6,1301.665,1335.465,1336.403,1327.808,1317.479,1325.904,1344.596,1366.384,1334.378,1375.841,1322.919,1308.635,1338.691,1322.398,1285.485,1368.474,1313.986,1299.566,1354.645,1320.526,1311.977,1256.676,1291.319,1299.179,1284.71,1315.249,1178.474,1285.806],\"yaxis\":\"y\",\"type\":\"scatter\"},{\"hovertemplate\":\"component=Cloud@2km\\u003cbr\\u003elambda=%{x}\\u003cbr\\u003eIrradiance (W\\u002fm2\\u002fum)=%{y}\\u003cextra\\u003e\\u003c\\u002fextra\\u003e\",\"legendgroup\":\"Cloud@2km\",\"line\":{\"color\":\"#FF7F0E\",\"dash\":\"solid\"},\"marker\":{\"symbol\":\"circle\"},\"mode\":\"lines\",\"name\":\"Cloud@2km\",\"orientation\":\"v\",\"showlegend\":true,\"x\":[630.021,630.617,631.214,631.812,632.411,633.012,633.613,634.216,634.82,635.425,636.031,636.639,637.247,637.857,638.468,639.08,639.693,640.307,640.923,641.54,642.158,642.777,643.397,644.019,644.642,645.266,645.891,646.517,647.145,647.773,648.403,649.035,649.667,650.301],\"xaxis\":\"x\",\"y\":[818.5365,802.0821,838.9003,760.7603,821.393,842.4917,807.5115,828.644,829.8311,823.8345,817.6567,823.5953,834.5282,849.0299,829.0115,854.8726,822.323,813.1978,831.5245,822.0212,799.1692,850.376,816.6354,807.8073,841.0949,820.013,811.8805,777.9829,794.8646,795.3521,786.7298,809.1863,723.9688,796.4997],\"yaxis\":\"y\",\"type\":\"scatter\"},{\"hovertemplate\":\"component=Cloud@5km\\u003cbr\\u003elambda=%{x}\\u003cbr\\u003eIrradiance (W\\u002fm2\\u002fum)=%{y}\\u003cextra\\u003e\\u003c\\u002fextra\\u003e\",\"legendgroup\":\"Cloud@5km\",\"line\":{\"color\":\"#2CA02C\",\"dash\":\"solid\"},\"marker\":{\"symbol\":\"circle\"},\"mode\":\"lines\",\"name\":\"Cloud@5km\",\"orientation\":\"v\",\"showlegend\":true,\"x\":[630.021,630.617,631.214,631.812,632.411,633.012,633.613,634.216,634.82,635.425,636.031,636.639,637.247,637.857,638.468,639.08,639.693,640.307,640.923,641.54,642.158,642.777,643.397,644.019,644.642,645.266,645.891,646.517,647.145,647.773,648.403,649.035,649.667,650.301],\"xaxis\":\"x\",\"y\":[813.0392,797.7383,834.9373,757.4443,817.2734,839.2876,804.4702,825.798,827.2517,821.1248,815.2111,821.5148,832.3116,847.3492,827.3989,853.2921,821.0047,811.9781,830.1685,820.9655,798.2952,849.2974,815.6977,807.031,839.832,819.0187,809.4119,775.9284,790.549,789.6605,780.2766,804.5223,719.6207,794.8857],\"yaxis\":\"y\",\"type\":\"scatter\"},{\"hovertemplate\":\"component=Cloud@10km\\u003cbr\\u003elambda=%{x}\\u003cbr\\u003eIrradiance (W\\u002fm2\\u002fum)=%{y}\\u003cextra\\u003e\\u003c\\u002fextra\\u003e\",\"legendgroup\":\"Cloud@10km\",\"line\":{\"color\":\"#D62728\",\"dash\":\"solid\"},\"marker\":{\"symbol\":\"circle\"},\"mode\":\"lines\",\"name\":\"Cloud@10km\",\"orientation\":\"v\",\"showlegend\":true,\"x\":[630.021,630.617,631.214,631.812,632.411,633.012,633.613,634.216,634.82,635.425,636.031,636.639,637.247,637.857,638.468,639.08,639.693,640.307,640.923,641.54,642.158,642.777,643.397,644.019,644.642,645.266,645.891,646.517,647.145,647.773,648.403,649.035,649.667,650.301],\"xaxis\":\"x\",\"y\":[808.3259,793.9467,831.4416,754.6642,814.2673,836.4266,801.8228,823.2873,824.8042,818.7919,813.0606,819.4774,830.4024,845.6146,825.7994,851.7045,819.5573,810.6802,828.8953,819.766,797.2115,848.1576,814.6425,806.0576,838.7465,818.0626,808.1669,774.8398,788.9987,787.9556,778.1367,802.8618,718.1595,793.9228],\"yaxis\":\"y\",\"type\":\"scatter\"}],                        {\"template\":{\"data\":{\"barpolar\":[{\"marker\":{\"line\":{\"color\":\"white\",\"width\":0.5},\"pattern\":{\"fillmode\":\"overlay\",\"size\":10,\"solidity\":0.2}},\"type\":\"barpolar\"}],\"bar\":[{\"error_x\":{\"color\":\"rgb(36,36,36)\"},\"error_y\":{\"color\":\"rgb(36,36,36)\"},\"marker\":{\"line\":{\"color\":\"white\",\"width\":0.5},\"pattern\":{\"fillmode\":\"overlay\",\"size\":10,\"solidity\":0.2}},\"type\":\"bar\"}],\"carpet\":[{\"aaxis\":{\"endlinecolor\":\"rgb(36,36,36)\",\"gridcolor\":\"white\",\"linecolor\":\"white\",\"minorgridcolor\":\"white\",\"startlinecolor\":\"rgb(36,36,36)\"},\"baxis\":{\"endlinecolor\":\"rgb(36,36,36)\",\"gridcolor\":\"white\",\"linecolor\":\"white\",\"minorgridcolor\":\"white\",\"startlinecolor\":\"rgb(36,36,36)\"},\"type\":\"carpet\"}],\"choropleth\":[{\"colorbar\":{\"outlinewidth\":1,\"tickcolor\":\"rgb(36,36,36)\",\"ticks\":\"outside\"},\"type\":\"choropleth\"}],\"contourcarpet\":[{\"colorbar\":{\"outlinewidth\":1,\"tickcolor\":\"rgb(36,36,36)\",\"ticks\":\"outside\"},\"type\":\"contourcarpet\"}],\"contour\":[{\"colorbar\":{\"outlinewidth\":1,\"tickcolor\":\"rgb(36,36,36)\",\"ticks\":\"outside\"},\"colorscale\":[[0.0,\"#440154\"],[0.1111111111111111,\"#482878\"],[0.2222222222222222,\"#3e4989\"],[0.3333333333333333,\"#31688e\"],[0.4444444444444444,\"#26828e\"],[0.5555555555555556,\"#1f9e89\"],[0.6666666666666666,\"#35b779\"],[0.7777777777777778,\"#6ece58\"],[0.8888888888888888,\"#b5de2b\"],[1.0,\"#fde725\"]],\"type\":\"contour\"}],\"heatmapgl\":[{\"colorbar\":{\"outlinewidth\":1,\"tickcolor\":\"rgb(36,36,36)\",\"ticks\":\"outside\"},\"colorscale\":[[0.0,\"#440154\"],[0.1111111111111111,\"#482878\"],[0.2222222222222222,\"#3e4989\"],[0.3333333333333333,\"#31688e\"],[0.4444444444444444,\"#26828e\"],[0.5555555555555556,\"#1f9e89\"],[0.6666666666666666,\"#35b779\"],[0.7777777777777778,\"#6ece58\"],[0.8888888888888888,\"#b5de2b\"],[1.0,\"#fde725\"]],\"type\":\"heatmapgl\"}],\"heatmap\":[{\"colorbar\":{\"outlinewidth\":1,\"tickcolor\":\"rgb(36,36,36)\",\"ticks\":\"outside\"},\"colorscale\":[[0.0,\"#440154\"],[0.1111111111111111,\"#482878\"],[0.2222222222222222,\"#3e4989\"],[0.3333333333333333,\"#31688e\"],[0.4444444444444444,\"#26828e\"],[0.5555555555555556,\"#1f9e89\"],[0.6666666666666666,\"#35b779\"],[0.7777777777777778,\"#6ece58\"],[0.8888888888888888,\"#b5de2b\"],[1.0,\"#fde725\"]],\"type\":\"heatmap\"}],\"histogram2dcontour\":[{\"colorbar\":{\"outlinewidth\":1,\"tickcolor\":\"rgb(36,36,36)\",\"ticks\":\"outside\"},\"colorscale\":[[0.0,\"#440154\"],[0.1111111111111111,\"#482878\"],[0.2222222222222222,\"#3e4989\"],[0.3333333333333333,\"#31688e\"],[0.4444444444444444,\"#26828e\"],[0.5555555555555556,\"#1f9e89\"],[0.6666666666666666,\"#35b779\"],[0.7777777777777778,\"#6ece58\"],[0.8888888888888888,\"#b5de2b\"],[1.0,\"#fde725\"]],\"type\":\"histogram2dcontour\"}],\"histogram2d\":[{\"colorbar\":{\"outlinewidth\":1,\"tickcolor\":\"rgb(36,36,36)\",\"ticks\":\"outside\"},\"colorscale\":[[0.0,\"#440154\"],[0.1111111111111111,\"#482878\"],[0.2222222222222222,\"#3e4989\"],[0.3333333333333333,\"#31688e\"],[0.4444444444444444,\"#26828e\"],[0.5555555555555556,\"#1f9e89\"],[0.6666666666666666,\"#35b779\"],[0.7777777777777778,\"#6ece58\"],[0.8888888888888888,\"#b5de2b\"],[1.0,\"#fde725\"]],\"type\":\"histogram2d\"}],\"histogram\":[{\"marker\":{\"line\":{\"color\":\"white\",\"width\":0.6}},\"type\":\"histogram\"}],\"mesh3d\":[{\"colorbar\":{\"outlinewidth\":1,\"tickcolor\":\"rgb(36,36,36)\",\"ticks\":\"outside\"},\"type\":\"mesh3d\"}],\"parcoords\":[{\"line\":{\"colorbar\":{\"outlinewidth\":1,\"tickcolor\":\"rgb(36,36,36)\",\"ticks\":\"outside\"}},\"type\":\"parcoords\"}],\"pie\":[{\"automargin\":true,\"type\":\"pie\"}],\"scatter3d\":[{\"line\":{\"colorbar\":{\"outlinewidth\":1,\"tickcolor\":\"rgb(36,36,36)\",\"ticks\":\"outside\"}},\"marker\":{\"colorbar\":{\"outlinewidth\":1,\"tickcolor\":\"rgb(36,36,36)\",\"ticks\":\"outside\"}},\"type\":\"scatter3d\"}],\"scattercarpet\":[{\"marker\":{\"colorbar\":{\"outlinewidth\":1,\"tickcolor\":\"rgb(36,36,36)\",\"ticks\":\"outside\"}},\"type\":\"scattercarpet\"}],\"scattergeo\":[{\"marker\":{\"colorbar\":{\"outlinewidth\":1,\"tickcolor\":\"rgb(36,36,36)\",\"ticks\":\"outside\"}},\"type\":\"scattergeo\"}],\"scattergl\":[{\"marker\":{\"colorbar\":{\"outlinewidth\":1,\"tickcolor\":\"rgb(36,36,36)\",\"ticks\":\"outside\"}},\"type\":\"scattergl\"}],\"scattermapbox\":[{\"marker\":{\"colorbar\":{\"outlinewidth\":1,\"tickcolor\":\"rgb(36,36,36)\",\"ticks\":\"outside\"}},\"type\":\"scattermapbox\"}],\"scatterpolargl\":[{\"marker\":{\"colorbar\":{\"outlinewidth\":1,\"tickcolor\":\"rgb(36,36,36)\",\"ticks\":\"outside\"}},\"type\":\"scatterpolargl\"}],\"scatterpolar\":[{\"marker\":{\"colorbar\":{\"outlinewidth\":1,\"tickcolor\":\"rgb(36,36,36)\",\"ticks\":\"outside\"}},\"type\":\"scatterpolar\"}],\"scatter\":[{\"fillpattern\":{\"fillmode\":\"overlay\",\"size\":10,\"solidity\":0.2},\"type\":\"scatter\"}],\"scatterternary\":[{\"marker\":{\"colorbar\":{\"outlinewidth\":1,\"tickcolor\":\"rgb(36,36,36)\",\"ticks\":\"outside\"}},\"type\":\"scatterternary\"}],\"surface\":[{\"colorbar\":{\"outlinewidth\":1,\"tickcolor\":\"rgb(36,36,36)\",\"ticks\":\"outside\"},\"colorscale\":[[0.0,\"#440154\"],[0.1111111111111111,\"#482878\"],[0.2222222222222222,\"#3e4989\"],[0.3333333333333333,\"#31688e\"],[0.4444444444444444,\"#26828e\"],[0.5555555555555556,\"#1f9e89\"],[0.6666666666666666,\"#35b779\"],[0.7777777777777778,\"#6ece58\"],[0.8888888888888888,\"#b5de2b\"],[1.0,\"#fde725\"]],\"type\":\"surface\"}],\"table\":[{\"cells\":{\"fill\":{\"color\":\"rgb(237,237,237)\"},\"line\":{\"color\":\"white\"}},\"header\":{\"fill\":{\"color\":\"rgb(217,217,217)\"},\"line\":{\"color\":\"white\"}},\"type\":\"table\"}]},\"layout\":{\"annotationdefaults\":{\"arrowhead\":0,\"arrowwidth\":1},\"autotypenumbers\":\"strict\",\"coloraxis\":{\"colorbar\":{\"outlinewidth\":1,\"tickcolor\":\"rgb(36,36,36)\",\"ticks\":\"outside\"}},\"colorscale\":{\"diverging\":[[0.0,\"rgb(103,0,31)\"],[0.1,\"rgb(178,24,43)\"],[0.2,\"rgb(214,96,77)\"],[0.3,\"rgb(244,165,130)\"],[0.4,\"rgb(253,219,199)\"],[0.5,\"rgb(247,247,247)\"],[0.6,\"rgb(209,229,240)\"],[0.7,\"rgb(146,197,222)\"],[0.8,\"rgb(67,147,195)\"],[0.9,\"rgb(33,102,172)\"],[1.0,\"rgb(5,48,97)\"]],\"sequential\":[[0.0,\"#440154\"],[0.1111111111111111,\"#482878\"],[0.2222222222222222,\"#3e4989\"],[0.3333333333333333,\"#31688e\"],[0.4444444444444444,\"#26828e\"],[0.5555555555555556,\"#1f9e89\"],[0.6666666666666666,\"#35b779\"],[0.7777777777777778,\"#6ece58\"],[0.8888888888888888,\"#b5de2b\"],[1.0,\"#fde725\"]],\"sequentialminus\":[[0.0,\"#440154\"],[0.1111111111111111,\"#482878\"],[0.2222222222222222,\"#3e4989\"],[0.3333333333333333,\"#31688e\"],[0.4444444444444444,\"#26828e\"],[0.5555555555555556,\"#1f9e89\"],[0.6666666666666666,\"#35b779\"],[0.7777777777777778,\"#6ece58\"],[0.8888888888888888,\"#b5de2b\"],[1.0,\"#fde725\"]]},\"colorway\":[\"#1F77B4\",\"#FF7F0E\",\"#2CA02C\",\"#D62728\",\"#9467BD\",\"#8C564B\",\"#E377C2\",\"#7F7F7F\",\"#BCBD22\",\"#17BECF\"],\"font\":{\"color\":\"rgb(36,36,36)\"},\"geo\":{\"bgcolor\":\"white\",\"lakecolor\":\"white\",\"landcolor\":\"white\",\"showlakes\":true,\"showland\":true,\"subunitcolor\":\"white\"},\"hoverlabel\":{\"align\":\"left\"},\"hovermode\":\"closest\",\"mapbox\":{\"style\":\"light\"},\"paper_bgcolor\":\"white\",\"plot_bgcolor\":\"white\",\"polar\":{\"angularaxis\":{\"gridcolor\":\"rgb(232,232,232)\",\"linecolor\":\"rgb(36,36,36)\",\"showgrid\":false,\"showline\":true,\"ticks\":\"outside\"},\"bgcolor\":\"white\",\"radialaxis\":{\"gridcolor\":\"rgb(232,232,232)\",\"linecolor\":\"rgb(36,36,36)\",\"showgrid\":false,\"showline\":true,\"ticks\":\"outside\"}},\"scene\":{\"xaxis\":{\"backgroundcolor\":\"white\",\"gridcolor\":\"rgb(232,232,232)\",\"gridwidth\":2,\"linecolor\":\"rgb(36,36,36)\",\"showbackground\":true,\"showgrid\":false,\"showline\":true,\"ticks\":\"outside\",\"zeroline\":false,\"zerolinecolor\":\"rgb(36,36,36)\"},\"yaxis\":{\"backgroundcolor\":\"white\",\"gridcolor\":\"rgb(232,232,232)\",\"gridwidth\":2,\"linecolor\":\"rgb(36,36,36)\",\"showbackground\":true,\"showgrid\":false,\"showline\":true,\"ticks\":\"outside\",\"zeroline\":false,\"zerolinecolor\":\"rgb(36,36,36)\"},\"zaxis\":{\"backgroundcolor\":\"white\",\"gridcolor\":\"rgb(232,232,232)\",\"gridwidth\":2,\"linecolor\":\"rgb(36,36,36)\",\"showbackground\":true,\"showgrid\":false,\"showline\":true,\"ticks\":\"outside\",\"zeroline\":false,\"zerolinecolor\":\"rgb(36,36,36)\"}},\"shapedefaults\":{\"fillcolor\":\"black\",\"line\":{\"width\":0},\"opacity\":0.3},\"ternary\":{\"aaxis\":{\"gridcolor\":\"rgb(232,232,232)\",\"linecolor\":\"rgb(36,36,36)\",\"showgrid\":false,\"showline\":true,\"ticks\":\"outside\"},\"baxis\":{\"gridcolor\":\"rgb(232,232,232)\",\"linecolor\":\"rgb(36,36,36)\",\"showgrid\":false,\"showline\":true,\"ticks\":\"outside\"},\"bgcolor\":\"white\",\"caxis\":{\"gridcolor\":\"rgb(232,232,232)\",\"linecolor\":\"rgb(36,36,36)\",\"showgrid\":false,\"showline\":true,\"ticks\":\"outside\"}},\"title\":{\"x\":0.05},\"xaxis\":{\"automargin\":true,\"gridcolor\":\"rgb(232,232,232)\",\"linecolor\":\"rgb(36,36,36)\",\"showgrid\":false,\"showline\":true,\"ticks\":\"outside\",\"title\":{\"standoff\":15},\"zeroline\":false,\"zerolinecolor\":\"rgb(36,36,36)\"},\"yaxis\":{\"automargin\":true,\"gridcolor\":\"rgb(232,232,232)\",\"linecolor\":\"rgb(36,36,36)\",\"showgrid\":false,\"showline\":true,\"ticks\":\"outside\",\"title\":{\"standoff\":15},\"zeroline\":false,\"zerolinecolor\":\"rgb(36,36,36)\"}}},\"xaxis\":{\"anchor\":\"y\",\"domain\":[0.0,1.0],\"title\":{\"text\":\"Wavelength (nm)\"}},\"yaxis\":{\"anchor\":\"x\",\"domain\":[0.0,1.0],\"title\":{\"text\":\"Irradiance (W\\u002fm2\\u002fum)\"}},\"legend\":{\"title\":{\"text\":\"component\"},\"tracegroupgap\":0},\"title\":{\"text\":\"Solar Irradiance\"}},                        {\"responsive\": true}                    ).then(function(){\n",
              "                            \n",
              "var gd = document.getElementById('516466fd-0266-4403-b517-c29c3fde518e');\n",
              "var x = new MutationObserver(function (mutations, observer) {{\n",
              "        var display = window.getComputedStyle(gd).display;\n",
              "        if (!display || display === 'none') {{\n",
              "            console.log([gd, 'removed!']);\n",
              "            Plotly.purge(gd);\n",
              "            observer.disconnect();\n",
              "        }}\n",
              "}});\n",
              "\n",
              "// Listen for the removal of the full notebook cells\n",
              "var notebookContainer = gd.closest('#notebook-container');\n",
              "if (notebookContainer) {{\n",
              "    x.observe(notebookContainer, {childList: true});\n",
              "}}\n",
              "\n",
              "// Listen for the clearing of the current output cell\n",
              "var outputEl = gd.closest('.output');\n",
              "if (outputEl) {{\n",
              "    x.observe(outputEl, {childList: true});\n",
              "}}\n",
              "\n",
              "                        })                };                            </script>        </div>\n",
              "</body>\n",
              "</html>"
            ]
          },
          "metadata": {},
          "output_type": "display_data"
        }
      ],
      "source": [
        "df_clr = pd.DataFrame(sdata_SUR[:, :], columns=['lambda', 'eglo', 'eup', 'edn', 'edir'])\n",
        "df_cld2 = pd.DataFrame(sdata_SUR_cld2[:, :], columns=['lambda', 'eglo', 'eup', 'edn', 'edir'])\n",
        "df_cld5 = pd.DataFrame(sdata_SUR_cld5[:, :], columns=['lambda', 'eglo', 'eup', 'edn', 'edir'])\n",
        "df_cld10 = pd.DataFrame(sdata_SUR_cld10[:, :], columns=['lambda', 'eglo', 'eup', 'edn', 'edir'])\n",
        "\n",
        "\n",
        "# combine df_TOA[\"edir\"] and df_SUR[\"eglo\"] into a new df\n",
        "df_plot = pd.DataFrame({'lambda': df_clr[\"lambda\"], 'Clear': df_clr[\"eglo\"], 'Cloud@2km': df_cld2[\"eglo\"], 'Cloud@5km': df_cld5[\"eglo\"], \"Cloud@10km\": df_cld10[\"eglo\"]})\n",
        "df_plot.set_index(\"lambda\", inplace=True)\n",
        "\n",
        "fig = df_plot.plot(y=[\"Clear\", \"Cloud@2km\", \"Cloud@5km\", \"Cloud@10km\"], template=\"simple_white\",\n",
        "        title=\"Solar Irradiance\", labels=dict(index=\"\", value=\"Irradiance (W/m2/um)\", variable=\"component\"))\n",
        "fig.update_xaxes(title=\"Wavelength (nm)\")\n",
        "# set xlim to 250 nm to 5000 nm\n",
        "# fig.update_layout(xaxis_range=[630, 650], yaxis_range=[500, 800])"
      ]
    },
    {
      "cell_type": "markdown",
      "metadata": {
        "id": "z92Q-hN7MznU"
      },
      "source": [
        "### Question 3(b)"
      ]
    },
    {
      "cell_type": "code",
      "execution_count": 77,
      "metadata": {
        "colab": {
          "base_uri": "https://localhost:8080/"
        },
        "id": "wQQKQsjPpXYa",
        "outputId": "d8d3689f-7340-4db5-84f7-75994b07ac4c"
      },
      "outputs": [
        {
          "name": "stdout",
          "output_type": "stream",
          "text": [
            "rte_solver twostr\n",
            "source thermal\n",
            "wavelength 8000 12000\n",
            "output_user lambda edir eup uu\n",
            "mol_abs_param reptran fine\n",
            "zout TOA\n",
            "verbose \n",
            "\n",
            "rte_solver twostr\n",
            "source thermal\n",
            "wavelength 8000 12000\n",
            "output_user lambda edir eup uu\n",
            "mol_abs_param reptran fine\n",
            "zout TOA\n",
            "wc_file 1D /tmp/tmpa0_j9rue\n",
            "verbose \n",
            "Cloud\n",
            "  Alt  LWC   Re\n",
            " 10.00 0.50 20.00\n",
            " 9.70 0.50 20.00\n",
            "\n",
            "rte_solver twostr\n",
            "source thermal\n",
            "wavelength 8000 12000\n",
            "output_user lambda edir eup uu\n",
            "mol_abs_param reptran fine\n",
            "zout TOA\n",
            "wc_file 1D /tmp/tmp01a2ptdt\n",
            "verbose \n",
            "Cloud\n",
            "  Alt  LWC   Re\n",
            " 5.00 0.50 20.00\n",
            " 4.70 0.50 20.00\n",
            "\n",
            "rte_solver twostr\n",
            "source thermal\n",
            "wavelength 8000 12000\n",
            "output_user lambda edir eup uu\n",
            "mol_abs_param reptran fine\n",
            "zout TOA\n",
            "wc_file 1D /tmp/tmp29wfew8j\n",
            "verbose \n",
            "Cloud\n",
            "  Alt  LWC   Re\n",
            " 2.00 0.50 20.00\n",
            " 1.70 0.50 20.00\n",
            "\n"
          ]
        }
      ],
      "source": [
        "# initialize solar (shortwave) RT object\n",
        "lw_rt = copy.deepcopy(rt)\n",
        "lw_rt.options['source'] = 'thermal'\n",
        "lw_rt.options['wavelength'] = '8000 12000'\n",
        "lw_rt.options['output_user'] = 'lambda edir eup uu'\n",
        "lw_rt.options['mol_abs_param'] = 'reptran fine'\n",
        "lw_rt.options['quiet'] = ''\n",
        "\n",
        "# Run solar (shortwave) RT for surface simulation\n",
        "lw_rt.options['zout'] = 'TOA'\n",
        "# lw_rt.options['sza'] = '30'\n",
        "ldata_TOA, lverb_TOA = lw_rt.run(verbose=True, print_input=True)\n",
        "\n",
        "# with a cloud at z=10 km\n",
        "lw_rt_cld10 = copy.deepcopy(lw_rt)\n",
        "lw_rt_cld10.cloud = {\n",
        "    \"z\": np.array([10, 9.7]),\n",
        "    \"lwc\": np.array([0.5, 0.5]),\n",
        "    \"re\": np.array([20, 20]),\n",
        "}\n",
        "\n",
        "ldata_TOA_cld10, lverb_TOA_cld10 = lw_rt_cld10.run(verbose=True, print_input=True)\n",
        "\n",
        "# with cloud at z=5 km\n",
        "lw_rt_cld5 = copy.deepcopy(lw_rt)\n",
        "lw_rt_cld5.cloud = {\n",
        "    \"z\": np.array([5, 4.7]),\n",
        "    \"lwc\": np.array([0.5, 0.5]),\n",
        "    \"re\": np.array([20, 20]),\n",
        "}\n",
        "\n",
        "ldata_TOA_cld5, lverb_TOA_cld5 = lw_rt_cld5.run(verbose=True, print_input=True)\n",
        "\n",
        "# with cloud at z=2 km\n",
        "lw_rt_cld2 = copy.deepcopy(lw_rt)\n",
        "lw_rt_cld2.cloud = {\n",
        "    \"z\": np.array([2, 1.7]),\n",
        "    \"lwc\": np.array([0.5, 0.5]),\n",
        "    \"re\": np.array([20, 20]),\n",
        "}\n",
        "\n",
        "ldata_TOA_cld2, lverb_TOA_cld2 = lw_rt_cld2.run(verbose=True, print_input=True)"
      ]
    },
    {
      "cell_type": "code",
      "execution_count": 78,
      "metadata": {
        "colab": {
          "base_uri": "https://localhost:8080/",
          "height": 542
        },
        "id": "rhVc2NJsqOCf",
        "outputId": "7b81e09a-0ec8-4e5a-be03-d4db78107410"
      },
      "outputs": [
        {
          "data": {
            "text/html": [
              "<html>\n",
              "<head><meta charset=\"utf-8\" /></head>\n",
              "<body>\n",
              "    <div>            <script src=\"https://cdnjs.cloudflare.com/ajax/libs/mathjax/2.7.5/MathJax.js?config=TeX-AMS-MML_SVG\"></script><script type=\"text/javascript\">if (window.MathJax && window.MathJax.Hub && window.MathJax.Hub.Config) {window.MathJax.Hub.Config({SVG: {font: \"STIX-Web\"}});}</script>                <script type=\"text/javascript\">window.PlotlyConfig = {MathJaxConfig: 'local'};</script>\n",
              "        <script charset=\"utf-8\" src=\"https://cdn.plot.ly/plotly-2.24.1.min.js\"></script>                <div id=\"4a20496f-96d5-4bee-8d91-21d4c2f34293\" class=\"plotly-graph-div\" style=\"height:525px; width:100%;\"></div>            <script type=\"text/javascript\">                                    window.PLOTLYENV=window.PLOTLYENV || {};                                    if (document.getElementById(\"4a20496f-96d5-4bee-8d91-21d4c2f34293\")) {                    Plotly.newPlot(                        \"4a20496f-96d5-4bee-8d91-21d4c2f34293\",                        [{\"hovertemplate\":\"component=Clear\\u003cbr\\u003elambda=%{x}\\u003cbr\\u003eIrradiance (W\\u002fm2\\u002fum)=%{y}\\u003cextra\\u003e\\u003c\\u002fextra\\u003e\",\"legendgroup\":\"Clear\",\"line\":{\"color\":\"#1F77B4\",\"dash\":\"solid\"},\"marker\":{\"symbol\":\"circle\"},\"mode\":\"lines\",\"name\":\"Clear\",\"showlegend\":true,\"x\":[8003.203,8009.613,8016.033,8022.464,8028.905,8035.357,8041.819,8048.291,8054.774,8061.267,8067.771,8074.285,8080.81,8087.345,8093.891,8100.447,8107.014,8113.592,8120.18,8126.779,8133.389,8140.009,8146.641,8153.283,8159.936,8166.6,8173.275,8179.96,8186.657,8193.365,8200.083,8206.813,8213.554,8220.306,8227.068,8233.843,8240.628,8247.424,8254.231,8261.051,8267.881,8274.722,8281.575,8288.439,8295.314,8302.201,8309.1,8316.01,8322.931,8329.864,8336.809,8343.765,8350.732,8357.712,8364.702,8371.705,8378.72,8385.746,8392.783,8399.833,8406.896,8413.969,8421.054,8428.151,8435.261,8442.382,8449.516,8456.661,8463.818,8470.988,8478.17,8485.364,8492.57,8499.789,8507.02,8514.263,8521.519,8528.786,8536.066,8543.359,8550.664,8557.981,8565.312,8572.655,8580.01,8587.378,8594.759,8602.152,8609.559,8616.977,8624.408,8631.854,8639.311,8646.78,8654.264,8661.76,8669.27,8676.791,8684.326,8691.875,8699.437,8707.011,8714.599,8722.199,8729.814,8737.441,8745.083,8752.737,8760.404,8768.086,8775.78,8783.488,8791.211,8798.946,8806.694,8814.457,8822.233,8830.023,8837.827,8845.646,8853.477,8861.322,8869.182,8877.055,8884.941,8892.843,8900.759,8908.688,8916.631,8924.589,8932.561,8940.547,8948.548,8956.562,8964.592,8972.636,8980.693,8988.766,8996.853,9004.954,9013.07,9021.201,9029.348,9037.508,9045.683,9053.872,9062.077,9070.297,9078.531,9086.78,9095.045,9103.324,9111.619,9119.929,9128.254,9136.594,9144.949,9153.32,9161.706,9170.107,9178.524,9186.956,9195.404,9203.867,9212.347,9220.841,9229.352,9237.877,9246.419,9254.977,9263.55,9272.14,9280.744,9289.365,9298.003,9306.656,9315.326,9324.012,9332.713,9341.432,9350.166,9358.916,9367.684,9376.467,9385.268,9394.084,9402.917,9411.767,9420.633,9429.517,9438.416,9447.333,9456.267,9465.218,9474.185,9483.17,9492.171,9501.189,9510.226,9519.278,9528.349,9537.437,9546.542,9555.664,9564.804,9573.961,9583.136,9592.328,9601.538,9610.767,9620.012,9629.275,9638.557,9647.855,9657.173,9666.508,9675.861,9685.232,9694.622,9704.029,9713.455,9722.899,9732.362,9741.844,9751.343,9760.861,9770.398,9779.953,9789.527,9799.12,9808.732,9818.362,9828.012,9837.681,9847.368,9857.075,9866.801,9876.546,9886.31,9896.094,9905.896,9915.719,9925.561,9935.422,9945.304,9955.204,9965.125,9975.064,9985.025,9995.005,10005.005,10015.025,10025.065,10035.125,10045.206,10055.307,10065.428,10075.569,10085.731,10095.914,10106.117,10116.341,10126.585,10136.85,10147.136,10157.443,10167.771,10178.12,10188.489,10198.881,10209.293,10219.727,10230.182,10240.658,10251.156,10261.676,10272.217,10282.779,10293.363,10303.97,10314.598,10325.248,10335.92,10346.614,10357.331,10368.069,10378.83,10389.613,10400.419,10411.247,10422.098,10432.971,10443.867,10454.786,10465.728,10476.692,10487.68,10498.69,10509.725,10520.781,10531.861,10542.966,10554.093,10565.243,10576.418,10587.615,10598.837,10610.083,10621.352,10632.646,10643.963,10655.304,10666.67,10678.06,10689.474,10700.913,10712.376,10723.863,10735.376,10746.913,10758.476,10770.062,10781.674,10793.312,10804.974,10816.661,10828.373,10840.111,10851.875,10863.664,10875.479,10887.319,10899.186,10911.078,10922.996,10934.94,10946.911,10958.907,10970.931,10982.979,10995.056,11007.158,11019.287,11031.443,11043.626,11055.835,11068.072,11080.336,11092.627,11104.945,11117.291,11129.664,11142.064,11154.493,11166.949,11179.434,11191.945,11204.485,11217.054,11229.649,11242.274,11254.928,11267.609,11280.319,11293.059,11305.826,11318.623,11331.448,11344.303,11357.188,11370.101,11383.043,11396.015,11409.017,11422.048,11435.109,11448.2,11461.322,11474.473,11487.654,11500.866,11514.108,11527.382,11540.685,11554.019,11567.384,11580.78,11594.207,11607.665,11621.154,11634.675,11648.228,11661.812,11675.427,11689.075,11702.754,11716.466,11730.209,11743.985,11757.794,11771.635,11785.508,11799.414,11813.354,11827.325,11841.33,11855.369,11869.44,11883.546,11897.685,11911.856,11926.062,11940.303,11954.577,11968.885,11983.228,11997.604],\"xaxis\":\"x\",\"y\":[0.0934815,0.1093102,0.08997796,0.1000127,0.08315644,0.06966403,0.08218206,0.1018225,0.106237,0.1137658,0.1110967,0.1122007,0.1030772,0.1045166,0.1273684,0.1415222,0.1302213,0.1407682,0.1436817,0.1242145,0.1180004,0.1303643,0.1404255,0.1227289,0.07982639,0.1024282,0.1277577,0.1304906,0.1210477,0.1232347,0.1284599,0.09240569,0.1364563,0.1374626,0.1391109,0.1406029,0.1395946,0.08792807,0.09023815,0.1314808,0.1455131,0.1478788,0.1508046,0.1429133,0.1498517,0.1549,0.1529982,0.1530029,0.1515419,0.1553788,0.150065,0.1051988,0.1346035,0.1515144,0.1555467,0.155358,0.1510749,0.153823,0.1468556,0.1513004,0.155769,0.1506988,0.1106103,0.1133529,0.1478095,0.1532717,0.1571969,0.1577245,0.1563668,0.145029,0.1580259,0.1531931,0.1564803,0.1527966,0.1421041,0.08591661,0.1265739,0.1581845,0.1612947,0.1626022,0.1635813,0.1686401,0.1673418,0.1598526,0.113104,0.1542994,0.1623748,0.1654778,0.1671706,0.1666595,0.1646147,0.1652586,0.1675051,0.1672637,0.1669112,0.1610903,0.1672726,0.1441157,0.1476745,0.1626166,0.1377272,0.1695351,0.170574,0.1701396,0.1744077,0.1744251,0.1728154,0.1764251,0.1742523,0.1769216,0.1778821,0.1744854,0.1418625,0.1576542,0.1172801,0.173898,0.1784672,0.1781958,0.1771757,0.1783518,0.1811792,0.1851701,0.1771913,0.1835291,0.1813596,0.1805572,0.1820496,0.1819962,0.1531068,0.1661783,0.1856283,0.1830162,0.1854061,0.1881687,0.189702,0.1903715,0.1911363,0.1901242,0.1549567,0.1894009,0.1927768,0.1935925,0.1870799,0.1608575,0.1940545,0.1944526,0.1957337,0.1931521,0.1696441,0.1929614,0.175986,0.1948317,0.1983942,0.1990995,0.1984739,0.1941334,0.1973101,0.1971943,0.1786035,0.1962374,0.1978997,0.1967819,0.1922352,0.1970901,0.1928228,0.1988015,0.1974865,0.1972062,0.1864014,0.2025229,0.1977229,0.1974621,0.196571,0.1995854,0.1969356,0.1690302,0.1958219,0.2044062,0.1981665,0.194879,0.1947877,0.1775805,0.1820978,0.1396564,0.1501728,0.1358714,0.1237331,0.1137757,0.09949678,0.09100258,0.09097292,0.08820128,0.08782195,0.08472534,0.0844203,0.08016037,0.07585949,0.07352562,0.08980625,0.06959707,0.09405097,0.0911793,0.09704266,0.1003918,0.1383608,0.1583222,0.1868214,0.1752529,0.08422589,0.07580668,0.07601684,0.08507769,0.08856148,0.08658005,0.1019364,0.1048585,0.1064009,0.1074751,0.1103517,0.1139664,0.1091196,0.1053678,0.1131999,0.110189,0.1162561,0.1080778,0.1182073,0.11162,0.1175037,0.1152537,0.1280262,0.1213393,0.1347534,0.1329299,0.1396711,0.1289335,0.146897,0.1574214,0.151428,0.1492134,0.1607607,0.1772191,0.1663295,0.1823448,0.1877809,0.1783253,0.1930683,0.1980855,0.2123657,0.1998046,0.2064153,0.2119357,0.2166472,0.2298138,0.2228932,0.224672,0.2373027,0.2339758,0.2361054,0.2376838,0.2432075,0.2437247,0.2454139,0.2450813,0.2509676,0.2481162,0.2505196,0.2519774,0.2530985,0.2537521,0.2536334,0.2524281,0.2479734,0.256701,0.2488268,0.2525628,0.2470399,0.2620861,0.2504562,0.2570874,0.2598096,0.2660477,0.2600968,0.2589593,0.2660275,0.2641841,0.2669614,0.2698489,0.2692431,0.270875,0.2666897,0.2715503,0.2689346,0.2682881,0.2628921,0.2667674,0.2645238,0.2687302,0.2684202,0.2753895,0.2683461,0.2515882,0.2677814,0.2743198,0.273202,0.2691992,0.2789088,0.2731664,0.2781316,0.273661,0.2811619,0.2765736,0.2822185,0.2784686,0.283242,0.2806659,0.2840284,0.2826767,0.2849775,0.2851749,0.2849154,0.2854094,0.2871065,0.2874711,0.2789664,0.2777096,0.2890608,0.2705289,0.2849029,0.290158,0.2913079,0.2869426,0.2925586,0.2928168,0.2935765,0.2926924,0.2921655,0.2949788,0.2953034,0.2938869,0.2843522,0.2755777,0.2966838,0.2899385,0.2975193,0.2989073,0.2994103,0.299704,0.3005615,0.3011772,0.3017883,0.3019021,0.3010967,0.3024812,0.3031483,0.3041212,0.3045127,0.3049879,0.3004212,0.3022328,0.305619,0.2971007,0.2786197,0.3043661,0.3077523,0.3068601,0.2921033,0.3090333,0.3042886,0.3092425,0.3105003,0.291708,0.3115109,0.312475,0.3127303,0.3136658,0.314063,0.3139941,0.2873503,0.3129035,0.3157366,0.3163662,0.3170002,0.317083,0.3000175,0.3123947,0.3186443,0.3191779,0.3199678,0.3204293,0.3197315,0.3177113,0.3214753,0.3216967,0.3202233,0.2893922,0.3113931,0.2630749,0.3205149,0.3224898,0.2931376,0.3245914,0.3257559,0.3265376,0.326795,0.3275777,0.3280404,0.3269319,0.3206703,0.3179883,0.3064763,0.3299218,0.3305866,0.3309659,0.3266851,0.3321676,0.3325612],\"yaxis\":\"y\",\"type\":\"scattergl\"},{\"hovertemplate\":\"component=Cloud@2km\\u003cbr\\u003elambda=%{x}\\u003cbr\\u003eIrradiance (W\\u002fm2\\u002fum)=%{y}\\u003cextra\\u003e\\u003c\\u002fextra\\u003e\",\"legendgroup\":\"Cloud@2km\",\"line\":{\"color\":\"#FF7F0E\",\"dash\":\"solid\"},\"marker\":{\"symbol\":\"circle\"},\"mode\":\"lines\",\"name\":\"Cloud@2km\",\"showlegend\":true,\"x\":[8003.203,8009.613,8016.033,8022.464,8028.905,8035.357,8041.819,8048.291,8054.774,8061.267,8067.771,8074.285,8080.81,8087.345,8093.891,8100.447,8107.014,8113.592,8120.18,8126.779,8133.389,8140.009,8146.641,8153.283,8159.936,8166.6,8173.275,8179.96,8186.657,8193.365,8200.083,8206.813,8213.554,8220.306,8227.068,8233.843,8240.628,8247.424,8254.231,8261.051,8267.881,8274.722,8281.575,8288.439,8295.314,8302.201,8309.1,8316.01,8322.931,8329.864,8336.809,8343.765,8350.732,8357.712,8364.702,8371.705,8378.72,8385.746,8392.783,8399.833,8406.896,8413.969,8421.054,8428.151,8435.261,8442.382,8449.516,8456.661,8463.818,8470.988,8478.17,8485.364,8492.57,8499.789,8507.02,8514.263,8521.519,8528.786,8536.066,8543.359,8550.664,8557.981,8565.312,8572.655,8580.01,8587.378,8594.759,8602.152,8609.559,8616.977,8624.408,8631.854,8639.311,8646.78,8654.264,8661.76,8669.27,8676.791,8684.326,8691.875,8699.437,8707.011,8714.599,8722.199,8729.814,8737.441,8745.083,8752.737,8760.404,8768.086,8775.78,8783.488,8791.211,8798.946,8806.694,8814.457,8822.233,8830.023,8837.827,8845.646,8853.477,8861.322,8869.182,8877.055,8884.941,8892.843,8900.759,8908.688,8916.631,8924.589,8932.561,8940.547,8948.548,8956.562,8964.592,8972.636,8980.693,8988.766,8996.853,9004.954,9013.07,9021.201,9029.348,9037.508,9045.683,9053.872,9062.077,9070.297,9078.531,9086.78,9095.045,9103.324,9111.619,9119.929,9128.254,9136.594,9144.949,9153.32,9161.706,9170.107,9178.524,9186.956,9195.404,9203.867,9212.347,9220.841,9229.352,9237.877,9246.419,9254.977,9263.55,9272.14,9280.744,9289.365,9298.003,9306.656,9315.326,9324.012,9332.713,9341.432,9350.166,9358.916,9367.684,9376.467,9385.268,9394.084,9402.917,9411.767,9420.633,9429.517,9438.416,9447.333,9456.267,9465.218,9474.185,9483.17,9492.171,9501.189,9510.226,9519.278,9528.349,9537.437,9546.542,9555.664,9564.804,9573.961,9583.136,9592.328,9601.538,9610.767,9620.012,9629.275,9638.557,9647.855,9657.173,9666.508,9675.861,9685.232,9694.622,9704.029,9713.455,9722.899,9732.362,9741.844,9751.343,9760.861,9770.398,9779.953,9789.527,9799.12,9808.732,9818.362,9828.012,9837.681,9847.368,9857.075,9866.801,9876.546,9886.31,9896.094,9905.896,9915.719,9925.561,9935.422,9945.304,9955.204,9965.125,9975.064,9985.025,9995.005,10005.005,10015.025,10025.065,10035.125,10045.206,10055.307,10065.428,10075.569,10085.731,10095.914,10106.117,10116.341,10126.585,10136.85,10147.136,10157.443,10167.771,10178.12,10188.489,10198.881,10209.293,10219.727,10230.182,10240.658,10251.156,10261.676,10272.217,10282.779,10293.363,10303.97,10314.598,10325.248,10335.92,10346.614,10357.331,10368.069,10378.83,10389.613,10400.419,10411.247,10422.098,10432.971,10443.867,10454.786,10465.728,10476.692,10487.68,10498.69,10509.725,10520.781,10531.861,10542.966,10554.093,10565.243,10576.418,10587.615,10598.837,10610.083,10621.352,10632.646,10643.963,10655.304,10666.67,10678.06,10689.474,10700.913,10712.376,10723.863,10735.376,10746.913,10758.476,10770.062,10781.674,10793.312,10804.974,10816.661,10828.373,10840.111,10851.875,10863.664,10875.479,10887.319,10899.186,10911.078,10922.996,10934.94,10946.911,10958.907,10970.931,10982.979,10995.056,11007.158,11019.287,11031.443,11043.626,11055.835,11068.072,11080.336,11092.627,11104.945,11117.291,11129.664,11142.064,11154.493,11166.949,11179.434,11191.945,11204.485,11217.054,11229.649,11242.274,11254.928,11267.609,11280.319,11293.059,11305.826,11318.623,11331.448,11344.303,11357.188,11370.101,11383.043,11396.015,11409.017,11422.048,11435.109,11448.2,11461.322,11474.473,11487.654,11500.866,11514.108,11527.382,11540.685,11554.019,11567.384,11580.78,11594.207,11607.665,11621.154,11634.675,11648.228,11661.812,11675.427,11689.075,11702.754,11716.466,11730.209,11743.985,11757.794,11771.635,11785.508,11799.414,11813.354,11827.325,11841.33,11855.369,11869.44,11883.546,11897.685,11911.856,11926.062,11940.303,11954.577,11968.885,11983.228,11997.604],\"xaxis\":\"x\",\"y\":[0.07868347,0.09055819,0.07335573,0.08255765,0.07240491,0.06773056,0.07777976,0.08679213,0.08605556,0.09263699,0.09450641,0.08952806,0.0854969,0.08753476,0.09719644,0.105144,0.0995013,0.1056102,0.106476,0.09622211,0.09478648,0.1002268,0.1071795,0.1016296,0.07624802,0.09211598,0.1018566,0.1039099,0.09926266,0.1001721,0.1033341,0.08618625,0.107259,0.1061083,0.1092797,0.1099219,0.1107909,0.08325045,0.08648407,0.1070496,0.1117645,0.1129012,0.113555,0.1114395,0.1140075,0.1150851,0.1142653,0.1144306,0.1140372,0.1162358,0.1149835,0.09389302,0.1112987,0.1159539,0.1172284,0.1163296,0.1161123,0.1164292,0.1150074,0.1159821,0.1179063,0.1169119,0.09855209,0.1012632,0.1160382,0.1179852,0.1186504,0.1188537,0.1185694,0.1139982,0.1193557,0.1182304,0.1191593,0.1193853,0.1173098,0.08389018,0.1112396,0.121877,0.1228538,0.1232755,0.1240444,0.1260452,0.125666,0.1242089,0.1047911,0.1227116,0.1238394,0.1249694,0.1259872,0.1254449,0.1242525,0.124865,0.1260712,0.1260313,0.1261932,0.1234123,0.1274372,0.120913,0.1217392,0.1253699,0.1177866,0.1295648,0.1293329,0.128849,0.1314165,0.1312634,0.1305239,0.1329454,0.1324913,0.1334524,0.1342606,0.1330468,0.1219799,0.1296347,0.107304,0.1346408,0.1357731,0.1348123,0.1338572,0.1346257,0.1366372,0.1390084,0.1337707,0.1380126,0.1367048,0.1363108,0.1378142,0.1380807,0.1289193,0.1346013,0.1403865,0.1386221,0.1417024,0.1419472,0.1430369,0.1438168,0.144269,0.1447996,0.1317374,0.144747,0.1457176,0.1468015,0.1444852,0.1360629,0.1473518,0.1472867,0.1479843,0.1471341,0.1403393,0.1478112,0.1439413,0.1480208,0.1500944,0.1506876,0.1502299,0.1474406,0.1497966,0.1502156,0.1458141,0.1511965,0.150852,0.1504662,0.1477948,0.1510519,0.1509674,0.1528601,0.1522511,0.1521571,0.1455342,0.1548932,0.1531765,0.1532569,0.152733,0.1547416,0.1526504,0.14259,0.1531276,0.1588708,0.1539971,0.1518975,0.1507076,0.1391963,0.1432704,0.1208732,0.1235273,0.1116649,0.1034276,0.096589,0.08730943,0.08167988,0.08124077,0.07926974,0.07929909,0.0767242,0.07875995,0.07422603,0.07101502,0.06882086,0.08128149,0.06696936,0.0841974,0.08222114,0.08554515,0.08775952,0.1139949,0.1278055,0.1478419,0.1405189,0.07730134,0.07108037,0.07157291,0.07830626,0.08000344,0.07916939,0.08990037,0.09230283,0.09312018,0.09461907,0.09597889,0.0995726,0.09719123,0.09518619,0.09837088,0.09614592,0.100192,0.09421178,0.1016688,0.09686889,0.1017643,0.1002771,0.1094254,0.104722,0.1161256,0.1124545,0.1179076,0.1135388,0.1233263,0.1296546,0.1256195,0.1272559,0.1338565,0.1440331,0.1373498,0.1476035,0.1513415,0.1452997,0.1562407,0.1589928,0.1692002,0.1621661,0.1653326,0.1706853,0.1727088,0.18156,0.1767623,0.1783423,0.1869991,0.1848602,0.1864482,0.1878567,0.1916661,0.1921761,0.1935923,0.1935816,0.1978616,0.1969816,0.1981225,0.1995721,0.2002479,0.2010545,0.2015137,0.2010551,0.2004902,0.2048284,0.2018903,0.203022,0.2022073,0.2076067,0.2039681,0.2061787,0.2073444,0.2105675,0.2080765,0.2083594,0.2117116,0.2103972,0.2121706,0.2136209,0.2139673,0.2148361,0.2141077,0.2155416,0.2145423,0.2146714,0.2148607,0.2148146,0.215462,0.2159539,0.2160691,0.2195095,0.2167136,0.2130439,0.2172969,0.2205317,0.2199334,0.2189921,0.2230789,0.2206421,0.2238379,0.2216834,0.2250657,0.2233827,0.2264269,0.2247678,0.2272875,0.2263555,0.2282668,0.2278911,0.2292984,0.2295263,0.2298111,0.2304802,0.231341,0.2316502,0.2298206,0.2290143,0.2334476,0.2280151,0.233407,0.2346616,0.2353075,0.2349797,0.2365242,0.2368678,0.2375193,0.23768,0.2381857,0.2390912,0.2395189,0.2398787,0.237686,0.2332626,0.2413213,0.2404912,0.2423306,0.2429229,0.243334,0.2439929,0.2443819,0.2450927,0.2455929,0.245945,0.2461252,0.2469061,0.2472474,0.2479634,0.2483986,0.2488999,0.2483189,0.2490893,0.250374,0.2485828,0.2407027,0.2509655,0.2521053,0.2524876,0.248777,0.2535433,0.2524384,0.2542913,0.255134,0.2496964,0.2559995,0.2566174,0.2569494,0.2576732,0.2581291,0.2585455,0.2495484,0.2589801,0.2599627,0.2604471,0.2610292,0.2614371,0.2571141,0.2608742,0.2627333,0.2631901,0.263853,0.2643551,0.2645167,0.2644182,0.2655506,0.2659714,0.2661415,0.2559572,0.2649321,0.2444108,0.2675204,0.268389,0.257612,0.2694103,0.2699048,0.2705547,0.2709507,0.2714486,0.2719305,0.2720934,0.2703252,0.2707066,0.2658212,0.2742778,0.2745338,0.2748813,0.2744721,0.2760606,0.2763789],\"yaxis\":\"y\",\"type\":\"scattergl\"},{\"hovertemplate\":\"component=Cloud@5km\\u003cbr\\u003elambda=%{x}\\u003cbr\\u003eIrradiance (W\\u002fm2\\u002fum)=%{y}\\u003cextra\\u003e\\u003c\\u002fextra\\u003e\",\"legendgroup\":\"Cloud@5km\",\"line\":{\"color\":\"#2CA02C\",\"dash\":\"solid\"},\"marker\":{\"symbol\":\"circle\"},\"mode\":\"lines\",\"name\":\"Cloud@5km\",\"showlegend\":true,\"x\":[8003.203,8009.613,8016.033,8022.464,8028.905,8035.357,8041.819,8048.291,8054.774,8061.267,8067.771,8074.285,8080.81,8087.345,8093.891,8100.447,8107.014,8113.592,8120.18,8126.779,8133.389,8140.009,8146.641,8153.283,8159.936,8166.6,8173.275,8179.96,8186.657,8193.365,8200.083,8206.813,8213.554,8220.306,8227.068,8233.843,8240.628,8247.424,8254.231,8261.051,8267.881,8274.722,8281.575,8288.439,8295.314,8302.201,8309.1,8316.01,8322.931,8329.864,8336.809,8343.765,8350.732,8357.712,8364.702,8371.705,8378.72,8385.746,8392.783,8399.833,8406.896,8413.969,8421.054,8428.151,8435.261,8442.382,8449.516,8456.661,8463.818,8470.988,8478.17,8485.364,8492.57,8499.789,8507.02,8514.263,8521.519,8528.786,8536.066,8543.359,8550.664,8557.981,8565.312,8572.655,8580.01,8587.378,8594.759,8602.152,8609.559,8616.977,8624.408,8631.854,8639.311,8646.78,8654.264,8661.76,8669.27,8676.791,8684.326,8691.875,8699.437,8707.011,8714.599,8722.199,8729.814,8737.441,8745.083,8752.737,8760.404,8768.086,8775.78,8783.488,8791.211,8798.946,8806.694,8814.457,8822.233,8830.023,8837.827,8845.646,8853.477,8861.322,8869.182,8877.055,8884.941,8892.843,8900.759,8908.688,8916.631,8924.589,8932.561,8940.547,8948.548,8956.562,8964.592,8972.636,8980.693,8988.766,8996.853,9004.954,9013.07,9021.201,9029.348,9037.508,9045.683,9053.872,9062.077,9070.297,9078.531,9086.78,9095.045,9103.324,9111.619,9119.929,9128.254,9136.594,9144.949,9153.32,9161.706,9170.107,9178.524,9186.956,9195.404,9203.867,9212.347,9220.841,9229.352,9237.877,9246.419,9254.977,9263.55,9272.14,9280.744,9289.365,9298.003,9306.656,9315.326,9324.012,9332.713,9341.432,9350.166,9358.916,9367.684,9376.467,9385.268,9394.084,9402.917,9411.767,9420.633,9429.517,9438.416,9447.333,9456.267,9465.218,9474.185,9483.17,9492.171,9501.189,9510.226,9519.278,9528.349,9537.437,9546.542,9555.664,9564.804,9573.961,9583.136,9592.328,9601.538,9610.767,9620.012,9629.275,9638.557,9647.855,9657.173,9666.508,9675.861,9685.232,9694.622,9704.029,9713.455,9722.899,9732.362,9741.844,9751.343,9760.861,9770.398,9779.953,9789.527,9799.12,9808.732,9818.362,9828.012,9837.681,9847.368,9857.075,9866.801,9876.546,9886.31,9896.094,9905.896,9915.719,9925.561,9935.422,9945.304,9955.204,9965.125,9975.064,9985.025,9995.005,10005.005,10015.025,10025.065,10035.125,10045.206,10055.307,10065.428,10075.569,10085.731,10095.914,10106.117,10116.341,10126.585,10136.85,10147.136,10157.443,10167.771,10178.12,10188.489,10198.881,10209.293,10219.727,10230.182,10240.658,10251.156,10261.676,10272.217,10282.779,10293.363,10303.97,10314.598,10325.248,10335.92,10346.614,10357.331,10368.069,10378.83,10389.613,10400.419,10411.247,10422.098,10432.971,10443.867,10454.786,10465.728,10476.692,10487.68,10498.69,10509.725,10520.781,10531.861,10542.966,10554.093,10565.243,10576.418,10587.615,10598.837,10610.083,10621.352,10632.646,10643.963,10655.304,10666.67,10678.06,10689.474,10700.913,10712.376,10723.863,10735.376,10746.913,10758.476,10770.062,10781.674,10793.312,10804.974,10816.661,10828.373,10840.111,10851.875,10863.664,10875.479,10887.319,10899.186,10911.078,10922.996,10934.94,10946.911,10958.907,10970.931,10982.979,10995.056,11007.158,11019.287,11031.443,11043.626,11055.835,11068.072,11080.336,11092.627,11104.945,11117.291,11129.664,11142.064,11154.493,11166.949,11179.434,11191.945,11204.485,11217.054,11229.649,11242.274,11254.928,11267.609,11280.319,11293.059,11305.826,11318.623,11331.448,11344.303,11357.188,11370.101,11383.043,11396.015,11409.017,11422.048,11435.109,11448.2,11461.322,11474.473,11487.654,11500.866,11514.108,11527.382,11540.685,11554.019,11567.384,11580.78,11594.207,11607.665,11621.154,11634.675,11648.228,11661.812,11675.427,11689.075,11702.754,11716.466,11730.209,11743.985,11757.794,11771.635,11785.508,11799.414,11813.354,11827.325,11841.33,11855.369,11869.44,11883.546,11897.685,11911.856,11926.062,11940.303,11954.577,11968.885,11983.228,11997.604],\"xaxis\":\"x\",\"y\":[0.05365613,0.05936301,0.0501988,0.05558499,0.0516892,0.05385868,0.0573938,0.05859884,0.05727862,0.06036539,0.0629032,0.05868161,0.0575689,0.0588479,0.06166156,0.06491536,0.06300583,0.06542038,0.06568248,0.06194468,0.06186779,0.0637895,0.06664794,0.06594604,0.05897066,0.0647774,0.06530705,0.06659907,0.06549831,0.06505561,0.06637259,0.06327723,0.06794505,0.06737776,0.0690661,0.06941179,0.06974392,0.06368941,0.06555865,0.06903796,0.07014281,0.07077093,0.07092245,0.07093506,0.07144715,0.0716139,0.07149487,0.0716956,0.07162606,0.07255757,0.07240102,0.06822623,0.07262246,0.07309834,0.07350279,0.0731957,0.07364444,0.0736022,0.07362846,0.07373776,0.074473,0.07435127,0.07037788,0.07201213,0.07430221,0.07516792,0.07521138,0.07548868,0.07551347,0.07423031,0.07598588,0.07580915,0.07606777,0.07671767,0.07667755,0.06871263,0.07671984,0.07781778,0.07818256,0.07844451,0.07883138,0.07968175,0.07960109,0.07954971,0.07654186,0.0794985,0.07944945,0.07984772,0.08048451,0.08018662,0.07981779,0.08022411,0.08083162,0.08086869,0.08105636,0.08016593,0.08194417,0.08114189,0.08170719,0.08135448,0.08130261,0.08336821,0.08325031,0.08307061,0.08436103,0.0842605,0.08408865,0.08535641,0.08509671,0.08562362,0.08613431,0.08586158,0.08445252,0.08542611,0.08111544,0.08696888,0.08752002,0.08708074,0.08657889,0.08722747,0.08798972,0.0891997,0.08684722,0.08882593,0.08832098,0.08836559,0.08911034,0.08942836,0.08959878,0.08981954,0.09078364,0.09003508,0.09174795,0.09175064,0.09243691,0.09299359,0.09325936,0.09378883,0.09177539,0.09391648,0.09427352,0.09500082,0.09422225,0.09414776,0.09551389,0.09558687,0.09597507,0.09580788,0.09566563,0.09629698,0.09650989,0.0965521,0.09757916,0.09802788,0.09779202,0.09649414,0.097818,0.09830362,0.09869342,0.09907138,0.09886074,0.09896069,0.09770459,0.09954475,0.1000029,0.1007165,0.1006515,0.1006881,0.09763541,0.1018565,0.1017395,0.101877,0.1016808,0.102652,0.1015585,0.09926625,0.1022861,0.1049051,0.1029612,0.1021036,0.1011086,0.09553001,0.09798656,0.09049735,0.0892856,0.08344635,0.07960034,0.07501525,0.07251646,0.06926087,0.06887241,0.06755109,0.0685163,0.06684165,0.0690368,0.06656048,0.06442938,0.06271747,0.06946368,0.06324997,0.07107128,0.07053839,0.07175111,0.07212029,0.08521242,0.09255685,0.1024462,0.09894417,0.06882329,0.06519089,0.06573594,0.06992536,0.06942798,0.07012159,0.0752034,0.07720579,0.07660864,0.07836309,0.07848711,0.08121647,0.07989421,0.07831091,0.0800565,0.07910138,0.08070922,0.07736957,0.0814129,0.07880938,0.0825216,0.08193745,0.08682592,0.08415139,0.09029793,0.08762997,0.09158587,0.08970647,0.09485522,0.09649191,0.09456072,0.09653664,0.1004393,0.10487,0.1026495,0.1067668,0.1084279,0.1055715,0.1114385,0.1129638,0.118423,0.1154745,0.1167178,0.1193595,0.1211425,0.1251372,0.1226064,0.1237629,0.1280746,0.1272859,0.1281524,0.1289442,0.1310091,0.1312907,0.1323242,0.1326123,0.1348172,0.1345934,0.1352693,0.1362531,0.1366244,0.1372569,0.1378071,0.1377897,0.1380495,0.1397149,0.1394515,0.13972,0.1399605,0.1414317,0.1409035,0.1417403,0.1422276,0.1435584,0.143015,0.143413,0.1446281,0.144279,0.1452395,0.1457646,0.1462815,0.1467104,0.1469028,0.1473092,0.1473267,0.1477115,0.1484873,0.1483386,0.1492358,0.1491096,0.1494372,0.1506013,0.1501414,0.1508737,0.1508861,0.1520508,0.1520856,0.1522268,0.1534714,0.1530599,0.1543091,0.1538945,0.1550321,0.154953,0.1561698,0.1558585,0.1568977,0.1568744,0.1577637,0.1578738,0.1586141,0.1587878,0.159233,0.1596229,0.1602569,0.1604653,0.1607989,0.1608788,0.1619449,0.161834,0.1625156,0.1630097,0.1634,0.1639557,0.1643969,0.1647084,0.1652133,0.1655139,0.1661,0.1665494,0.1669119,0.1674481,0.1675962,0.1673696,0.168486,0.1690346,0.1693566,0.1697249,0.1700553,0.1706957,0.170906,0.1715443,0.1719205,0.1723007,0.1725505,0.1731341,0.173383,0.1739475,0.1743332,0.1747574,0.1752263,0.1755856,0.176146,0.1762775,0.1756225,0.1770969,0.1775689,0.1781242,0.178174,0.1788093,0.1791617,0.1796,0.1802028,0.1800935,0.1809237,0.1813817,0.1816842,0.1822686,0.1826707,0.1831256,0.1825761,0.1838124,0.1842788,0.1846737,0.1851711,0.1855893,0.1857108,0.1861915,0.1867027,0.1870723,0.1876258,0.1880758,0.1883299,0.1886561,0.1891684,0.1895616,0.190006,0.1895367,0.1906202,0.1887964,0.1914878,0.1920321,0.1912841,0.1927339,0.1930458,0.1935989,0.1939666,0.1943756,0.1948116,0.1952639,0.1953786,0.1957964,0.1956844,0.196977,0.1971527,0.1974642,0.1978813,0.198518,0.1987838],\"yaxis\":\"y\",\"type\":\"scattergl\"},{\"hovertemplate\":\"component=Cloud@10km\\u003cbr\\u003elambda=%{x}\\u003cbr\\u003eIrradiance (W\\u002fm2\\u002fum)=%{y}\\u003cextra\\u003e\\u003c\\u002fextra\\u003e\",\"legendgroup\":\"Cloud@10km\",\"line\":{\"color\":\"#D62728\",\"dash\":\"solid\"},\"marker\":{\"symbol\":\"circle\"},\"mode\":\"lines\",\"name\":\"Cloud@10km\",\"showlegend\":true,\"x\":[8003.203,8009.613,8016.033,8022.464,8028.905,8035.357,8041.819,8048.291,8054.774,8061.267,8067.771,8074.285,8080.81,8087.345,8093.891,8100.447,8107.014,8113.592,8120.18,8126.779,8133.389,8140.009,8146.641,8153.283,8159.936,8166.6,8173.275,8179.96,8186.657,8193.365,8200.083,8206.813,8213.554,8220.306,8227.068,8233.843,8240.628,8247.424,8254.231,8261.051,8267.881,8274.722,8281.575,8288.439,8295.314,8302.201,8309.1,8316.01,8322.931,8329.864,8336.809,8343.765,8350.732,8357.712,8364.702,8371.705,8378.72,8385.746,8392.783,8399.833,8406.896,8413.969,8421.054,8428.151,8435.261,8442.382,8449.516,8456.661,8463.818,8470.988,8478.17,8485.364,8492.57,8499.789,8507.02,8514.263,8521.519,8528.786,8536.066,8543.359,8550.664,8557.981,8565.312,8572.655,8580.01,8587.378,8594.759,8602.152,8609.559,8616.977,8624.408,8631.854,8639.311,8646.78,8654.264,8661.76,8669.27,8676.791,8684.326,8691.875,8699.437,8707.011,8714.599,8722.199,8729.814,8737.441,8745.083,8752.737,8760.404,8768.086,8775.78,8783.488,8791.211,8798.946,8806.694,8814.457,8822.233,8830.023,8837.827,8845.646,8853.477,8861.322,8869.182,8877.055,8884.941,8892.843,8900.759,8908.688,8916.631,8924.589,8932.561,8940.547,8948.548,8956.562,8964.592,8972.636,8980.693,8988.766,8996.853,9004.954,9013.07,9021.201,9029.348,9037.508,9045.683,9053.872,9062.077,9070.297,9078.531,9086.78,9095.045,9103.324,9111.619,9119.929,9128.254,9136.594,9144.949,9153.32,9161.706,9170.107,9178.524,9186.956,9195.404,9203.867,9212.347,9220.841,9229.352,9237.877,9246.419,9254.977,9263.55,9272.14,9280.744,9289.365,9298.003,9306.656,9315.326,9324.012,9332.713,9341.432,9350.166,9358.916,9367.684,9376.467,9385.268,9394.084,9402.917,9411.767,9420.633,9429.517,9438.416,9447.333,9456.267,9465.218,9474.185,9483.17,9492.171,9501.189,9510.226,9519.278,9528.349,9537.437,9546.542,9555.664,9564.804,9573.961,9583.136,9592.328,9601.538,9610.767,9620.012,9629.275,9638.557,9647.855,9657.173,9666.508,9675.861,9685.232,9694.622,9704.029,9713.455,9722.899,9732.362,9741.844,9751.343,9760.861,9770.398,9779.953,9789.527,9799.12,9808.732,9818.362,9828.012,9837.681,9847.368,9857.075,9866.801,9876.546,9886.31,9896.094,9905.896,9915.719,9925.561,9935.422,9945.304,9955.204,9965.125,9975.064,9985.025,9995.005,10005.005,10015.025,10025.065,10035.125,10045.206,10055.307,10065.428,10075.569,10085.731,10095.914,10106.117,10116.341,10126.585,10136.85,10147.136,10157.443,10167.771,10178.12,10188.489,10198.881,10209.293,10219.727,10230.182,10240.658,10251.156,10261.676,10272.217,10282.779,10293.363,10303.97,10314.598,10325.248,10335.92,10346.614,10357.331,10368.069,10378.83,10389.613,10400.419,10411.247,10422.098,10432.971,10443.867,10454.786,10465.728,10476.692,10487.68,10498.69,10509.725,10520.781,10531.861,10542.966,10554.093,10565.243,10576.418,10587.615,10598.837,10610.083,10621.352,10632.646,10643.963,10655.304,10666.67,10678.06,10689.474,10700.913,10712.376,10723.863,10735.376,10746.913,10758.476,10770.062,10781.674,10793.312,10804.974,10816.661,10828.373,10840.111,10851.875,10863.664,10875.479,10887.319,10899.186,10911.078,10922.996,10934.94,10946.911,10958.907,10970.931,10982.979,10995.056,11007.158,11019.287,11031.443,11043.626,11055.835,11068.072,11080.336,11092.627,11104.945,11117.291,11129.664,11142.064,11154.493,11166.949,11179.434,11191.945,11204.485,11217.054,11229.649,11242.274,11254.928,11267.609,11280.319,11293.059,11305.826,11318.623,11331.448,11344.303,11357.188,11370.101,11383.043,11396.015,11409.017,11422.048,11435.109,11448.2,11461.322,11474.473,11487.654,11500.866,11514.108,11527.382,11540.685,11554.019,11567.384,11580.78,11594.207,11607.665,11621.154,11634.675,11648.228,11661.812,11675.427,11689.075,11702.754,11716.466,11730.209,11743.985,11757.794,11771.635,11785.508,11799.414,11813.354,11827.325,11841.33,11855.369,11869.44,11883.546,11897.685,11911.856,11926.062,11940.303,11954.577,11968.885,11983.228,11997.604],\"xaxis\":\"x\",\"y\":[0.02205543,0.02249097,0.02223428,0.02249307,0.02239674,0.02276488,0.02281287,0.02292684,0.02295979,0.02319995,0.02339532,0.0232521,0.02323465,0.02344389,0.0236318,0.02386863,0.0238809,0.02409038,0.02416095,0.02407541,0.02417791,0.02437015,0.02457929,0.02466648,0.02472435,0.02487337,0.02488237,0.02505078,0.02509399,0.0251044,0.0252944,0.02541149,0.0255512,0.0256559,0.02578081,0.02587213,0.02599587,0.02607558,0.02610325,0.02626456,0.02638718,0.02651676,0.02661134,0.02672053,0.02683689,0.02690614,0.02702293,0.02711103,0.02724622,0.02737353,0.02748011,0.02754717,0.02768979,0.02778073,0.02790124,0.02802567,0.02815689,0.02824135,0.02832392,0.02842378,0.02856719,0.02866913,0.02868956,0.02886485,0.0289757,0.02912418,null,0.02941432,0.0294336,0.02950975,0.02970408,0.02995146,0.02989272,0.03003994,null,0.03018416,0.03038265,0.03052571,0.03072482,0.03082713,0.03091068,0.03104274,0.03115434,0.03126006,0.03138005,0.03147997,0.03160021,0.0317247,0.03195434,0.03200588,0.03208751,0.03227155,0.03247386,0.03246428,0.03255497,0.03296727,0.03287407,0.03291789,0.03336882,0.03322693,0.03339322,0.03349259,0.03372102,0.03378284,0.03401514,0.03408073,0.03427375,0.03440113,0.03439713,0.03458312,0.03466001,0.03519046,0.03518333,0.03528117,0.03585013,0.0353504,0.03580875,null,null,0.03670612,0.03602751,0.03611893,0.03675421,0.03636773,0.03660895,0.03714213,0.0369271,0.0371663,0.03725827,0.03769236,0.03755717,0.03789083,0.03788784,0.03790693,null,0.03837611,null,0.03868432,0.03873871,0.03885625,0.03887226,0.03911912,0.03950367,0.0394384,0.03946689,0.03973142,0.0398101,0.04015246,0.04032505,0.04024008,0.0404021,0.04071362,0.04070004,0.04093019,0.04092279,0.04111748,0.04124616,null,0.04173814,0.04175057,0.04199018,0.04244372,0.04240072,null,0.04272737,0.04275782,0.04303912,0.04307768,0.04359185,0.0434073,0.0434122,0.04367905,0.04378768,0.04440157,0.04425728,0.04453958,0.04455177,0.04471265,0.04511356,0.04534963,0.04573313,0.04650053,0.04645025,0.04815116,0.04972387,0.05102645,0.05197834,0.04966751,0.05471706,0.05362836,0.05367237,0.05305321,0.05513758,0.05466484,0.05533984,0.05666991,0.05573222,0.05487494,0.05452412,0.05818738,0.05482454,0.05583142,0.0552274,0.05298486,0.05120562,0.05177975,0.05019277,0.05128448,0.05838766,0.05774138,0.05825222,0.05952449,0.05643528,0.05898524,0.05742997,0.05900584,0.05636811,0.05844704,0.05734915,0.05875326,0.05840453,0.05591652,0.05760542,0.05841447,0.05724104,0.05691973,0.05669795,0.05673802,0.05916357,0.05952493,0.0596145,0.05921084,0.05862692,0.05795646,0.06013115,0.05999426,0.06087834,0.05718071,0.05786953,0.05838022,0.0610146,0.05901969,0.06177405,0.05927622,0.0584152,0.05891731,0.05904647,0.05943072,0.05971602,0.06080035,0.06029727,0.0592678,0.06152623,0.06006055,0.06002524,0.0605856,0.06005299,0.06078019,0.06081301,0.06087992,0.06093249,0.06088299,0.06139471,0.06197316,0.06176247,null,0.0621071,0.06213031,0.06254751,0.06249387,0.06276262,0.06308623,0.06312791,0.06327647,0.06361829,0.06381883,null,0.06405414,0.06438968,0.06465349,0.06486621,0.06522955,0.06536595,0.06558617,0.06580609,0.06596416,0.06632721,0.06638861,0.06673931,0.06692529,0.06713271,0.06727777,0.06758979,0.06786582,0.06809501,0.06835527,0.06857438,0.06878131,0.06905258,0.06924529,0.06948419,0.06978856,0.06998306,0.07022522,0.07046274,0.07075921,0.07094856,0.07120777,0.07145807,0.07166009,0.07188214,0.07221881,0.0725692,0.07269956,0.07301878,0.07321531,0.07356338,0.07374462,0.07407685,0.07417451,0.07455344,0.07468029,0.07507838,0.07518917,0.07552949,0.07573611,0.07609429,0.07632343,0.07646376,0.0767658,0.07698263,0.07738867,0.07759904,0.07779636,0.07810523,0.07830115,0.07867466,0.07894147,0.07916528,0.07951014,0.07970782,0.07991616,0.08015861,0.08055986,0.08071036,0.08093628,0.08114697,0.08156102,0.08168155,0.08209689,0.08232771,0.08258632,0.08273879,0.08311348,0.08327254,0.08363343,0.08388611,0.0841575,0.08452019,0.08473349,0.08506169,0.08523674,0.08549742,0.08571038,0.08598325,0.08635569,0.08659729,0.08679055,0.08715683,0.08731761,0.08770284,0.08798406,0.08817588,0.08847154,0.08867124,0.08905523,0.08932028,0.08962504,0.08986872,0.09009717,0.09038503,0.09064861,0.09098195,0.09126619,0.09158398,0.091763,0.09202602,0.0922654,0.09263831,0.09294383,0.09311962,0.09335672,0.09369221,0.09395755,0.09427454,0.09455309,0.0947758,0.09498181,0.09530752,0.09566879,0.09593603,0.09614422,0.0963555,0.09673322,0.09698948,0.09727457,0.09757835,0.09792211,0.0981729,0.0983833,0.09867155,0.09908334,0.09922075,0.09943622,0.09976715,0.1001772,0.1003603],\"yaxis\":\"y\",\"type\":\"scattergl\"}],                        {\"template\":{\"data\":{\"barpolar\":[{\"marker\":{\"line\":{\"color\":\"white\",\"width\":0.5},\"pattern\":{\"fillmode\":\"overlay\",\"size\":10,\"solidity\":0.2}},\"type\":\"barpolar\"}],\"bar\":[{\"error_x\":{\"color\":\"rgb(36,36,36)\"},\"error_y\":{\"color\":\"rgb(36,36,36)\"},\"marker\":{\"line\":{\"color\":\"white\",\"width\":0.5},\"pattern\":{\"fillmode\":\"overlay\",\"size\":10,\"solidity\":0.2}},\"type\":\"bar\"}],\"carpet\":[{\"aaxis\":{\"endlinecolor\":\"rgb(36,36,36)\",\"gridcolor\":\"white\",\"linecolor\":\"white\",\"minorgridcolor\":\"white\",\"startlinecolor\":\"rgb(36,36,36)\"},\"baxis\":{\"endlinecolor\":\"rgb(36,36,36)\",\"gridcolor\":\"white\",\"linecolor\":\"white\",\"minorgridcolor\":\"white\",\"startlinecolor\":\"rgb(36,36,36)\"},\"type\":\"carpet\"}],\"choropleth\":[{\"colorbar\":{\"outlinewidth\":1,\"tickcolor\":\"rgb(36,36,36)\",\"ticks\":\"outside\"},\"type\":\"choropleth\"}],\"contourcarpet\":[{\"colorbar\":{\"outlinewidth\":1,\"tickcolor\":\"rgb(36,36,36)\",\"ticks\":\"outside\"},\"type\":\"contourcarpet\"}],\"contour\":[{\"colorbar\":{\"outlinewidth\":1,\"tickcolor\":\"rgb(36,36,36)\",\"ticks\":\"outside\"},\"colorscale\":[[0.0,\"#440154\"],[0.1111111111111111,\"#482878\"],[0.2222222222222222,\"#3e4989\"],[0.3333333333333333,\"#31688e\"],[0.4444444444444444,\"#26828e\"],[0.5555555555555556,\"#1f9e89\"],[0.6666666666666666,\"#35b779\"],[0.7777777777777778,\"#6ece58\"],[0.8888888888888888,\"#b5de2b\"],[1.0,\"#fde725\"]],\"type\":\"contour\"}],\"heatmapgl\":[{\"colorbar\":{\"outlinewidth\":1,\"tickcolor\":\"rgb(36,36,36)\",\"ticks\":\"outside\"},\"colorscale\":[[0.0,\"#440154\"],[0.1111111111111111,\"#482878\"],[0.2222222222222222,\"#3e4989\"],[0.3333333333333333,\"#31688e\"],[0.4444444444444444,\"#26828e\"],[0.5555555555555556,\"#1f9e89\"],[0.6666666666666666,\"#35b779\"],[0.7777777777777778,\"#6ece58\"],[0.8888888888888888,\"#b5de2b\"],[1.0,\"#fde725\"]],\"type\":\"heatmapgl\"}],\"heatmap\":[{\"colorbar\":{\"outlinewidth\":1,\"tickcolor\":\"rgb(36,36,36)\",\"ticks\":\"outside\"},\"colorscale\":[[0.0,\"#440154\"],[0.1111111111111111,\"#482878\"],[0.2222222222222222,\"#3e4989\"],[0.3333333333333333,\"#31688e\"],[0.4444444444444444,\"#26828e\"],[0.5555555555555556,\"#1f9e89\"],[0.6666666666666666,\"#35b779\"],[0.7777777777777778,\"#6ece58\"],[0.8888888888888888,\"#b5de2b\"],[1.0,\"#fde725\"]],\"type\":\"heatmap\"}],\"histogram2dcontour\":[{\"colorbar\":{\"outlinewidth\":1,\"tickcolor\":\"rgb(36,36,36)\",\"ticks\":\"outside\"},\"colorscale\":[[0.0,\"#440154\"],[0.1111111111111111,\"#482878\"],[0.2222222222222222,\"#3e4989\"],[0.3333333333333333,\"#31688e\"],[0.4444444444444444,\"#26828e\"],[0.5555555555555556,\"#1f9e89\"],[0.6666666666666666,\"#35b779\"],[0.7777777777777778,\"#6ece58\"],[0.8888888888888888,\"#b5de2b\"],[1.0,\"#fde725\"]],\"type\":\"histogram2dcontour\"}],\"histogram2d\":[{\"colorbar\":{\"outlinewidth\":1,\"tickcolor\":\"rgb(36,36,36)\",\"ticks\":\"outside\"},\"colorscale\":[[0.0,\"#440154\"],[0.1111111111111111,\"#482878\"],[0.2222222222222222,\"#3e4989\"],[0.3333333333333333,\"#31688e\"],[0.4444444444444444,\"#26828e\"],[0.5555555555555556,\"#1f9e89\"],[0.6666666666666666,\"#35b779\"],[0.7777777777777778,\"#6ece58\"],[0.8888888888888888,\"#b5de2b\"],[1.0,\"#fde725\"]],\"type\":\"histogram2d\"}],\"histogram\":[{\"marker\":{\"line\":{\"color\":\"white\",\"width\":0.6}},\"type\":\"histogram\"}],\"mesh3d\":[{\"colorbar\":{\"outlinewidth\":1,\"tickcolor\":\"rgb(36,36,36)\",\"ticks\":\"outside\"},\"type\":\"mesh3d\"}],\"parcoords\":[{\"line\":{\"colorbar\":{\"outlinewidth\":1,\"tickcolor\":\"rgb(36,36,36)\",\"ticks\":\"outside\"}},\"type\":\"parcoords\"}],\"pie\":[{\"automargin\":true,\"type\":\"pie\"}],\"scatter3d\":[{\"line\":{\"colorbar\":{\"outlinewidth\":1,\"tickcolor\":\"rgb(36,36,36)\",\"ticks\":\"outside\"}},\"marker\":{\"colorbar\":{\"outlinewidth\":1,\"tickcolor\":\"rgb(36,36,36)\",\"ticks\":\"outside\"}},\"type\":\"scatter3d\"}],\"scattercarpet\":[{\"marker\":{\"colorbar\":{\"outlinewidth\":1,\"tickcolor\":\"rgb(36,36,36)\",\"ticks\":\"outside\"}},\"type\":\"scattercarpet\"}],\"scattergeo\":[{\"marker\":{\"colorbar\":{\"outlinewidth\":1,\"tickcolor\":\"rgb(36,36,36)\",\"ticks\":\"outside\"}},\"type\":\"scattergeo\"}],\"scattergl\":[{\"marker\":{\"colorbar\":{\"outlinewidth\":1,\"tickcolor\":\"rgb(36,36,36)\",\"ticks\":\"outside\"}},\"type\":\"scattergl\"}],\"scattermapbox\":[{\"marker\":{\"colorbar\":{\"outlinewidth\":1,\"tickcolor\":\"rgb(36,36,36)\",\"ticks\":\"outside\"}},\"type\":\"scattermapbox\"}],\"scatterpolargl\":[{\"marker\":{\"colorbar\":{\"outlinewidth\":1,\"tickcolor\":\"rgb(36,36,36)\",\"ticks\":\"outside\"}},\"type\":\"scatterpolargl\"}],\"scatterpolar\":[{\"marker\":{\"colorbar\":{\"outlinewidth\":1,\"tickcolor\":\"rgb(36,36,36)\",\"ticks\":\"outside\"}},\"type\":\"scatterpolar\"}],\"scatter\":[{\"fillpattern\":{\"fillmode\":\"overlay\",\"size\":10,\"solidity\":0.2},\"type\":\"scatter\"}],\"scatterternary\":[{\"marker\":{\"colorbar\":{\"outlinewidth\":1,\"tickcolor\":\"rgb(36,36,36)\",\"ticks\":\"outside\"}},\"type\":\"scatterternary\"}],\"surface\":[{\"colorbar\":{\"outlinewidth\":1,\"tickcolor\":\"rgb(36,36,36)\",\"ticks\":\"outside\"},\"colorscale\":[[0.0,\"#440154\"],[0.1111111111111111,\"#482878\"],[0.2222222222222222,\"#3e4989\"],[0.3333333333333333,\"#31688e\"],[0.4444444444444444,\"#26828e\"],[0.5555555555555556,\"#1f9e89\"],[0.6666666666666666,\"#35b779\"],[0.7777777777777778,\"#6ece58\"],[0.8888888888888888,\"#b5de2b\"],[1.0,\"#fde725\"]],\"type\":\"surface\"}],\"table\":[{\"cells\":{\"fill\":{\"color\":\"rgb(237,237,237)\"},\"line\":{\"color\":\"white\"}},\"header\":{\"fill\":{\"color\":\"rgb(217,217,217)\"},\"line\":{\"color\":\"white\"}},\"type\":\"table\"}]},\"layout\":{\"annotationdefaults\":{\"arrowhead\":0,\"arrowwidth\":1},\"autotypenumbers\":\"strict\",\"coloraxis\":{\"colorbar\":{\"outlinewidth\":1,\"tickcolor\":\"rgb(36,36,36)\",\"ticks\":\"outside\"}},\"colorscale\":{\"diverging\":[[0.0,\"rgb(103,0,31)\"],[0.1,\"rgb(178,24,43)\"],[0.2,\"rgb(214,96,77)\"],[0.3,\"rgb(244,165,130)\"],[0.4,\"rgb(253,219,199)\"],[0.5,\"rgb(247,247,247)\"],[0.6,\"rgb(209,229,240)\"],[0.7,\"rgb(146,197,222)\"],[0.8,\"rgb(67,147,195)\"],[0.9,\"rgb(33,102,172)\"],[1.0,\"rgb(5,48,97)\"]],\"sequential\":[[0.0,\"#440154\"],[0.1111111111111111,\"#482878\"],[0.2222222222222222,\"#3e4989\"],[0.3333333333333333,\"#31688e\"],[0.4444444444444444,\"#26828e\"],[0.5555555555555556,\"#1f9e89\"],[0.6666666666666666,\"#35b779\"],[0.7777777777777778,\"#6ece58\"],[0.8888888888888888,\"#b5de2b\"],[1.0,\"#fde725\"]],\"sequentialminus\":[[0.0,\"#440154\"],[0.1111111111111111,\"#482878\"],[0.2222222222222222,\"#3e4989\"],[0.3333333333333333,\"#31688e\"],[0.4444444444444444,\"#26828e\"],[0.5555555555555556,\"#1f9e89\"],[0.6666666666666666,\"#35b779\"],[0.7777777777777778,\"#6ece58\"],[0.8888888888888888,\"#b5de2b\"],[1.0,\"#fde725\"]]},\"colorway\":[\"#1F77B4\",\"#FF7F0E\",\"#2CA02C\",\"#D62728\",\"#9467BD\",\"#8C564B\",\"#E377C2\",\"#7F7F7F\",\"#BCBD22\",\"#17BECF\"],\"font\":{\"color\":\"rgb(36,36,36)\"},\"geo\":{\"bgcolor\":\"white\",\"lakecolor\":\"white\",\"landcolor\":\"white\",\"showlakes\":true,\"showland\":true,\"subunitcolor\":\"white\"},\"hoverlabel\":{\"align\":\"left\"},\"hovermode\":\"closest\",\"mapbox\":{\"style\":\"light\"},\"paper_bgcolor\":\"white\",\"plot_bgcolor\":\"white\",\"polar\":{\"angularaxis\":{\"gridcolor\":\"rgb(232,232,232)\",\"linecolor\":\"rgb(36,36,36)\",\"showgrid\":false,\"showline\":true,\"ticks\":\"outside\"},\"bgcolor\":\"white\",\"radialaxis\":{\"gridcolor\":\"rgb(232,232,232)\",\"linecolor\":\"rgb(36,36,36)\",\"showgrid\":false,\"showline\":true,\"ticks\":\"outside\"}},\"scene\":{\"xaxis\":{\"backgroundcolor\":\"white\",\"gridcolor\":\"rgb(232,232,232)\",\"gridwidth\":2,\"linecolor\":\"rgb(36,36,36)\",\"showbackground\":true,\"showgrid\":false,\"showline\":true,\"ticks\":\"outside\",\"zeroline\":false,\"zerolinecolor\":\"rgb(36,36,36)\"},\"yaxis\":{\"backgroundcolor\":\"white\",\"gridcolor\":\"rgb(232,232,232)\",\"gridwidth\":2,\"linecolor\":\"rgb(36,36,36)\",\"showbackground\":true,\"showgrid\":false,\"showline\":true,\"ticks\":\"outside\",\"zeroline\":false,\"zerolinecolor\":\"rgb(36,36,36)\"},\"zaxis\":{\"backgroundcolor\":\"white\",\"gridcolor\":\"rgb(232,232,232)\",\"gridwidth\":2,\"linecolor\":\"rgb(36,36,36)\",\"showbackground\":true,\"showgrid\":false,\"showline\":true,\"ticks\":\"outside\",\"zeroline\":false,\"zerolinecolor\":\"rgb(36,36,36)\"}},\"shapedefaults\":{\"fillcolor\":\"black\",\"line\":{\"width\":0},\"opacity\":0.3},\"ternary\":{\"aaxis\":{\"gridcolor\":\"rgb(232,232,232)\",\"linecolor\":\"rgb(36,36,36)\",\"showgrid\":false,\"showline\":true,\"ticks\":\"outside\"},\"baxis\":{\"gridcolor\":\"rgb(232,232,232)\",\"linecolor\":\"rgb(36,36,36)\",\"showgrid\":false,\"showline\":true,\"ticks\":\"outside\"},\"bgcolor\":\"white\",\"caxis\":{\"gridcolor\":\"rgb(232,232,232)\",\"linecolor\":\"rgb(36,36,36)\",\"showgrid\":false,\"showline\":true,\"ticks\":\"outside\"}},\"title\":{\"x\":0.05},\"xaxis\":{\"automargin\":true,\"gridcolor\":\"rgb(232,232,232)\",\"linecolor\":\"rgb(36,36,36)\",\"showgrid\":false,\"showline\":true,\"ticks\":\"outside\",\"title\":{\"standoff\":15},\"zeroline\":false,\"zerolinecolor\":\"rgb(36,36,36)\"},\"yaxis\":{\"automargin\":true,\"gridcolor\":\"rgb(232,232,232)\",\"linecolor\":\"rgb(36,36,36)\",\"showgrid\":false,\"showline\":true,\"ticks\":\"outside\",\"title\":{\"standoff\":15},\"zeroline\":false,\"zerolinecolor\":\"rgb(36,36,36)\"}}},\"xaxis\":{\"anchor\":\"y\",\"domain\":[0.0,1.0],\"title\":{\"text\":\"Wavelength (nm)\"}},\"yaxis\":{\"anchor\":\"x\",\"domain\":[0.0,1.0],\"title\":{\"text\":\"Irradiance (W\\u002fm2\\u002fum)\"}},\"legend\":{\"title\":{\"text\":\"component\"},\"tracegroupgap\":0},\"title\":{\"text\":\"Solar Irradiance\"}},                        {\"responsive\": true}                    ).then(function(){\n",
              "                            \n",
              "var gd = document.getElementById('4a20496f-96d5-4bee-8d91-21d4c2f34293');\n",
              "var x = new MutationObserver(function (mutations, observer) {{\n",
              "        var display = window.getComputedStyle(gd).display;\n",
              "        if (!display || display === 'none') {{\n",
              "            console.log([gd, 'removed!']);\n",
              "            Plotly.purge(gd);\n",
              "            observer.disconnect();\n",
              "        }}\n",
              "}});\n",
              "\n",
              "// Listen for the removal of the full notebook cells\n",
              "var notebookContainer = gd.closest('#notebook-container');\n",
              "if (notebookContainer) {{\n",
              "    x.observe(notebookContainer, {childList: true});\n",
              "}}\n",
              "\n",
              "// Listen for the clearing of the current output cell\n",
              "var outputEl = gd.closest('.output');\n",
              "if (outputEl) {{\n",
              "    x.observe(outputEl, {childList: true});\n",
              "}}\n",
              "\n",
              "                        })                };                            </script>        </div>\n",
              "</body>\n",
              "</html>"
            ]
          },
          "metadata": {},
          "output_type": "display_data"
        }
      ],
      "source": [
        "df_clr = pd.DataFrame(ldata_TOA[:, :], columns=['lambda', 'edir', 'eup'])\n",
        "df_cld2 = pd.DataFrame(ldata_TOA_cld2[:, :], columns=['lambda', 'edir', 'eup'])\n",
        "df_cld5 = pd.DataFrame(ldata_TOA_cld5[:, :], columns=['lambda', 'edir', 'eup'])\n",
        "df_cld10 = pd.DataFrame(ldata_TOA_cld10[:, :], columns=['lambda', 'edir', 'eup'])\n",
        "\n",
        "\n",
        "# combine into a new df\n",
        "df_plot = pd.DataFrame({'lambda': df_clr[\"lambda\"], 'Clear': df_clr[\"eup\"], 'Cloud@2km': df_cld2[\"eup\"], 'Cloud@5km': df_cld5[\"eup\"], \"Cloud@10km\": df_cld10[\"eup\"]})\n",
        "df_plot.set_index(\"lambda\", inplace=True)\n",
        "\n",
        "fig = df_plot.plot(y=[\"Clear\", \"Cloud@2km\", \"Cloud@5km\", \"Cloud@10km\"], template=\"simple_white\",\n",
        "        title=\"Solar Irradiance\", labels=dict(index=\"\", value=\"Irradiance (W/m2/um)\", variable=\"component\"))\n",
        "fig.update_xaxes(title=\"Wavelength (nm)\")"
      ]
    },
    {
      "cell_type": "markdown",
      "metadata": {
        "id": "KoidvwLtr_fD"
      },
      "source": [
        "### Question 3(c)\n",
        "\n",
        "I will leave this bonus question for you to have a try, using Q3(a) and Q3(b) as references. Also check http://libradtran.org/doc/libRadtran.pdf for more information."
      ]
    },
    {
      "cell_type": "code",
      "execution_count": null,
      "metadata": {
        "id": "LWlVb1IFq_fb"
      },
      "outputs": [],
      "source": []
    }
  ],
  "metadata": {
    "colab": {
      "provenance": [],
      "toc_visible": true
    },
    "kernelspec": {
      "display_name": "Python 3",
      "name": "python3"
    },
    "language_info": {
      "name": "python"
    }
  },
  "nbformat": 4,
  "nbformat_minor": 0
}
